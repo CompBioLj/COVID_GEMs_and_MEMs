{
 "cells": [
  {
   "cell_type": "code",
   "execution_count": 1,
   "metadata": {},
   "outputs": [],
   "source": [
    "import pandas as pd\n",
    "import numpy as np\n",
    "import matplotlib.pyplot as plt\n",
    "import seaborn as sns\n",
    "\n",
    "import os\n",
    "import scipy.stats as stats\n",
    "\n",
    "import statsmodels.stats.multitest as multi\n",
    "\n",
    "from sklearn.decomposition import PCA\n",
    "from itertools import permutations, product, combinations\n",
    "from scipy.stats import pearsonr, spearmanr\n",
    "\n",
    "from sklearn.preprocessing import StandardScaler\n",
    "\n",
    "from sklearn.manifold import TSNE"
   ]
  },
  {
   "cell_type": "code",
   "execution_count": 2,
   "metadata": {},
   "outputs": [],
   "source": [
    "plt.rcParams.update({'font.size': 14})"
   ]
  },
  {
   "cell_type": "code",
   "execution_count": 3,
   "metadata": {},
   "outputs": [],
   "source": [
    "folder = \"flux_samples\""
   ]
  },
  {
   "cell_type": "markdown",
   "metadata": {},
   "source": [
    "# Additional settings"
   ]
  },
  {
   "cell_type": "code",
   "execution_count": 4,
   "metadata": {},
   "outputs": [],
   "source": [
    "MEM_labels = {\"INIT\":\"INIT\", \"TINIT\":\"tINIT\", \"GIMME\":\"GIMME\", \"IMAT\":\"iMAT\"}\n",
    "dataset_labels = {'HBE':'HBE', 'NHBE':'HBE', 'LUNG':'Lung', '293T':'293T', 'CALU':'Calu-3', 'A549':'A549'}\n",
    "\n",
    "order = {'MEM': ['iMAT', 'GIMME', 'INIT', 'tINIT'],\n",
    "         'infection': ['healthy', 'infected'],\n",
    "         'dataset': ['HBE', 'Lung', '293T', 'Calu-3', 'A549']}"
   ]
  },
  {
   "cell_type": "code",
   "execution_count": 5,
   "metadata": {},
   "outputs": [],
   "source": [
    "selected_MEM = ''\n",
    "#selected_MEM = 'iMAT'\n",
    "#selected_MEM = 'GIMME'\n",
    "#selected_MEM = 'INIT'\n",
    "#selected_MEM = 'tINIT'\n"
   ]
  },
  {
   "cell_type": "code",
   "execution_count": 6,
   "metadata": {},
   "outputs": [],
   "source": [
    "label_MEM = selected_MEM+\"_\" if selected_MEM else \"\""
   ]
  },
  {
   "cell_type": "markdown",
   "metadata": {},
   "source": [
    "# Metadata import"
   ]
  },
  {
   "cell_type": "code",
   "execution_count": 7,
   "metadata": {},
   "outputs": [],
   "source": [
    "models = [os.path.splitext(name)[0] for name in os.listdir(folder) if name.endswith('csv')]"
   ]
  },
  {
   "cell_type": "code",
   "execution_count": 8,
   "metadata": {},
   "outputs": [
    {
     "data": {
      "text/plain": [
       "40"
      ]
     },
     "execution_count": 8,
     "metadata": {},
     "output_type": "execute_result"
    }
   ],
   "source": [
    "len(models)"
   ]
  },
  {
   "cell_type": "code",
   "execution_count": 9,
   "metadata": {},
   "outputs": [],
   "source": [
    "MEMs = list(set([model.split(\"_\")[0] for model in models]))\n",
    "infections = list(set([model.split(\"_\")[3] for model in models]))\n",
    "datasets = list(set([model.split(\"_\")[1] for model in models]))"
   ]
  },
  {
   "cell_type": "code",
   "execution_count": 10,
   "metadata": {},
   "outputs": [
    {
     "data": {
      "text/plain": [
       "['init', 'Tinit', 'Gimme', 'iMAT']"
      ]
     },
     "execution_count": 10,
     "metadata": {},
     "output_type": "execute_result"
    }
   ],
   "source": [
    "MEMs"
   ]
  },
  {
   "cell_type": "code",
   "execution_count": 11,
   "metadata": {},
   "outputs": [
    {
     "data": {
      "text/plain": [
       "['293T', 'Lung', 'NHBE', 'A549', 'CALU']"
      ]
     },
     "execution_count": 11,
     "metadata": {},
     "output_type": "execute_result"
    }
   ],
   "source": [
    "datasets"
   ]
  },
  {
   "cell_type": "code",
   "execution_count": 12,
   "metadata": {},
   "outputs": [
    {
     "data": {
      "text/plain": [
       "['I', 'H']"
      ]
     },
     "execution_count": 12,
     "metadata": {},
     "output_type": "execute_result"
    }
   ],
   "source": [
    "infections"
   ]
  },
  {
   "cell_type": "code",
   "execution_count": 13,
   "metadata": {},
   "outputs": [],
   "source": [
    "MEMs = {}\n",
    "infections = {}\n",
    "datasets = {}\n",
    "\n",
    "model_MEMs = {}\n",
    "model_infections = {}\n",
    "model_datasets = {}\n",
    "\n",
    "model_names = []\n",
    "models_new = []\n",
    "\n",
    "for model in models:\n",
    "    MEM = model.split(\"_\")[0]\n",
    "    MEM = MEM_labels[MEM.upper()]\n",
    "    \n",
    "    infection = model.split(\"_\")[3]\n",
    "    infection = 'healthy' if infection == 'H' else 'infected'\n",
    "    \n",
    "    dataset = model.split(\"_\")[1] \n",
    "    dataset = dataset_labels[dataset.upper()]\n",
    "        \n",
    "    if selected_MEM and MEM != selected_MEM:\n",
    "        continue\n",
    "    \n",
    "    if MEM not in MEMs:\n",
    "        MEMs[MEM] = []\n",
    "    if infection not in infections:\n",
    "        infections[infection] = []\n",
    "    if dataset not in datasets:\n",
    "        datasets[dataset] = []\n",
    "\n",
    "    model_name = f\"{MEM}_{infection}_{dataset}\"\n",
    "    model_names.append(model_name)            \n",
    "    \n",
    "    models_new.append(model)\n",
    "        \n",
    "        \n",
    "    MEMs[MEM].append(model_name)\n",
    "    infections[infection].append(model_name)\n",
    "    datasets[dataset].append(model_name)  \n",
    "    \n",
    "    model_MEMs[model_name] = MEM\n",
    "    model_infections[model_name] = infection\n",
    "    model_datasets[model_name] = dataset\n",
    "\n",
    "models = models_new"
   ]
  },
  {
   "cell_type": "code",
   "execution_count": 14,
   "metadata": {},
   "outputs": [],
   "source": [
    "if selected_MEM:\n",
    "    groups = {\"infection\": infections, \"dataset\": datasets}\n",
    "else:\n",
    "    groups = {\"MEM\": MEMs, \"infection\": infections, \"dataset\": datasets}"
   ]
  },
  {
   "cell_type": "markdown",
   "metadata": {},
   "source": [
    "# Model import and preprocessing"
   ]
  },
  {
   "cell_type": "code",
   "execution_count": 15,
   "metadata": {},
   "outputs": [],
   "source": [
    "#file_names = [file_name for file_name in os.listdir(folder) if file_name.endswith('csv')]"
   ]
  },
  {
   "cell_type": "code",
   "execution_count": 16,
   "metadata": {},
   "outputs": [],
   "source": [
    "file_names = [model+\".csv\" for model in models]"
   ]
  },
  {
   "cell_type": "code",
   "execution_count": 17,
   "metadata": {},
   "outputs": [],
   "source": [
    "model_reactions = {}\n",
    "for file_name in file_names:\n",
    "    model_name = os.path.splitext(file_name)[0]    \n",
    "    \n",
    "    df2 = pd.read_csv(os.path.join(folder,file_name), sep=\";\")\n",
    "    \n",
    "    \n",
    "    active_reactions = set()    \n",
    "    for reaction in df2.columns:\n",
    "        if df2[reaction].any():\n",
    "            active_reactions.add(reaction)\n",
    "    model_reactions[model_name] = active_reactions\n",
    "\n",
    "    "
   ]
  },
  {
   "cell_type": "code",
   "execution_count": 18,
   "metadata": {},
   "outputs": [],
   "source": [
    "df = pd.DataFrame(columns=['model_ID'])\n",
    "for model in model_reactions:\n",
    "    d = {'model_ID':model}\n",
    "    for reaction in model_reactions[model]:\n",
    "        d[reaction] = 1\n",
    "    df = df.append(d, ignore_index=True, sort=False)"
   ]
  },
  {
   "cell_type": "code",
   "execution_count": 19,
   "metadata": {},
   "outputs": [],
   "source": [
    "df = df.rename(columns={'model_ID': 'reaction_ID'})\n",
    "df = df.set_index('reaction_ID')\n",
    "df = df.transpose()\n",
    "df = df.fillna(0)"
   ]
  },
  {
   "cell_type": "code",
   "execution_count": 20,
   "metadata": {},
   "outputs": [
    {
     "data": {
      "text/plain": [
       "(7168, 40)"
      ]
     },
     "execution_count": 20,
     "metadata": {},
     "output_type": "execute_result"
    }
   ],
   "source": [
    "df.shape"
   ]
  },
  {
   "cell_type": "code",
   "execution_count": 21,
   "metadata": {},
   "outputs": [],
   "source": [
    "#M = np.transpose(df.values[:,1:])\n",
    "M = np.transpose(df.values)\n",
    "M = M[:,~np.all(M==0, axis=0)]\n",
    "M = M[:,~np.all(M==1, axis=0)]\n",
    "M = StandardScaler(with_mean=True, with_std=False).fit_transform(M) #centering only"
   ]
  },
  {
   "cell_type": "code",
   "execution_count": 22,
   "metadata": {},
   "outputs": [],
   "source": [
    "df_models = df.copy()"
   ]
  },
  {
   "cell_type": "markdown",
   "metadata": {},
   "source": [
    "# PCA"
   ]
  },
  {
   "cell_type": "code",
   "execution_count": 23,
   "metadata": {},
   "outputs": [],
   "source": [
    "n_components = 2"
   ]
  },
  {
   "cell_type": "code",
   "execution_count": 24,
   "metadata": {},
   "outputs": [],
   "source": [
    "pca = PCA(n_components=n_components)\n",
    "comps = pca.fit_transform(M)\n",
    "df = pd.DataFrame(data = comps, columns = ['PC1', 'PC2'])\n",
    "df['model'] = model_names"
   ]
  },
  {
   "cell_type": "code",
   "execution_count": 25,
   "metadata": {},
   "outputs": [],
   "source": [
    "df_pca = pd.DataFrame()\n",
    "df_pca = df_pca.append(pd.DataFrame(pca.explained_variance_).T)\n",
    "df_pca = df_pca.append(pd.DataFrame(pca.explained_variance_ratio_).T)\n",
    "df_pca.columns = ['PC1', 'PC2']\n",
    "df_pca['label'] = ['explained variance', 'explained variance ratio']\n",
    "df_pca = df_pca.set_index('label')\n",
    "df_pca.to_csv(\"results_PCA_sampling\\\\\"+\"sampling_explained_variance\"+label_MEM+\".csv\")"
   ]
  },
  {
   "cell_type": "code",
   "execution_count": 26,
   "metadata": {},
   "outputs": [],
   "source": [
    "pca_explained = pca.explained_variance_ratio_"
   ]
  },
  {
   "cell_type": "code",
   "execution_count": 27,
   "metadata": {},
   "outputs": [
    {
     "data": {
      "image/png": "[encoded data removed]",
      "text/plain": [
       "<Figure size 1440x720 with 1 Axes>"
      ]
     },
     "metadata": {
      "needs_background": "light"
     },
     "output_type": "display_data"
    },
    {
     "data": {
      "image/png": "[encoded data removed]",
      "text/plain": [
       "<Figure size 1440x720 with 1 Axes>"
      ]
     },
     "metadata": {
      "needs_background": "light"
     },
     "output_type": "display_data"
    },
    {
     "data": {
      "image/png": "[encoded data removed]",
      "text/plain": [
       "<Figure size 1440x720 with 1 Axes>"
      ]
     },
     "metadata": {
      "needs_background": "light"
     },
     "output_type": "display_data"
    }
   ],
   "source": [
    "for c in combinations(range(n_components), 2):\n",
    "    i1 = c[0]\n",
    "    i2 = c[1]\n",
    "    for factor in groups:\n",
    "        for group, models_group in groups[factor].items():                        \n",
    "            locs = np.isin(model_names, models_group)\n",
    "            comps1 = comps[locs,i1]\n",
    "            comps2 = comps[locs,i2]\n",
    "            plt.plot(comps1, comps2,\"o\", label=group)           \n",
    "            if selected_MEM:\n",
    "                for model in model_names:\n",
    "                    locs1 = np.isin(model_names, model)\n",
    "                    x = comps[locs1,i1][0]\n",
    "                    y = comps[locs1,i2][0]\n",
    "                    plt.text(x+0.05,y+0.05,model)\n",
    "\n",
    "                \n",
    "            \n",
    "     \n",
    "        if selected_MEM:\n",
    "            plt.title(f'{factor}({selected_MEM})')\n",
    "        else:\n",
    "            plt.title(factor)\n",
    "        plt.xlabel(\"PC\"+str(i1+1) + \" (\" + str(round(100*pca_explained[i1],2))+\"%)\")\n",
    "        plt.ylabel(\"PC\"+str(i2+1) + \" (\" + str(round(100*pca_explained[i2],2))+\"%)\")\n",
    "        plt.legend()\n",
    "        plt.gcf().set_size_inches(20,10)\n",
    "        plt.savefig(\"results_PCA_sampling\\\\sampling_PCA_\"+label_MEM+\"PC\"+str(i1+1)+'_'+\"PC\"+str(i2+1)+'_'+factor+\".pdf\", format=\"pdf\", bbox_inches = 'tight')\n",
    "        #plt.savefig(\"results_PCA_sampling\\\\sampling_PCA_\"+label_MEM+\"PC\"+str(i1+1)+'_'+\"PC\"+str(i2+1)+'_'+factor+\".png\", format=\"png\", bbox_inches = 'tight')\n",
    "        plt.show()\n",
    "        "
   ]
  },
  {
   "cell_type": "markdown",
   "metadata": {},
   "source": [
    "# Variance explanation"
   ]
  },
  {
   "cell_type": "code",
   "execution_count": 28,
   "metadata": {},
   "outputs": [],
   "source": [
    "factors = list(groups.keys())\n",
    "Rs = np.zeros((len(factors), 2))\n",
    "rhos = np.zeros((len(factors), 2))\n",
    "\n",
    "\n",
    "for ii, factor in enumerate(groups):\n",
    "    scores1 = []\n",
    "    scores2 = []\n",
    "    #scores3 = []\n",
    "    \n",
    "    \"\"\"for i in range(len(groups[factor])):\n",
    "        idxs = np.array(np.where(np.isin(models, groups[factor][i])==True)).flatten()\n",
    "        scores1.append(sorted(df.iloc[idxs, 0].values))\n",
    "        scores2.append(sorted(df.iloc[idxs, 1].values))\n",
    "        #scores3.append(sorted(df.iloc[idxs, 2].values))\n",
    "    \"\"\"\n",
    "    for models_factor in groups[factor].values():\n",
    "        idxs = np.array(np.where(np.isin(model_names, models_factor)==True)).flatten()\n",
    "        scores1.append(sorted(df.iloc[idxs, 0].values))\n",
    "        scores2.append(sorted(df.iloc[idxs, 1].values))\n",
    "        #scores3.append(sorted(df.iloc[idxs, 2].values))\n",
    "    \n",
    "    for idx in permutations(range(len(scores1))):\n",
    "        s1 = []\n",
    "        s2 = []\n",
    "        #s3 = []        \n",
    "        for i in idx:\n",
    "            s1 += scores1[i]\n",
    "            s2 += scores2[i]\n",
    "            #s3 += scores3[i]\n",
    "            \n",
    "        \n",
    "        R_PC1 = pearsonr(np.arange(len(s1)), s1)[0]\n",
    "        R_PC2 = pearsonr(np.arange(len(s2)), s2)[0]\n",
    "        #R_PC3 = pearsonr(np.arange(len(s3)), s3)[0]\n",
    "\n",
    "        rho_PC1 = spearmanr(np.arange(len(s1)), s1)[0]\n",
    "        rho_PC2 = spearmanr(np.arange(len(s2)), s2)[0]\n",
    "        #rho_PC3 = spearmanr(np.arange(len(s3)), s3)[0]\n",
    "\n",
    "        Rs[ii, 0] = max(Rs[ii, 0], abs(R_PC1))\n",
    "        Rs[ii, 1] = max(Rs[ii, 1], abs(R_PC2))\n",
    "        #Rs[ii, 2] = max(Rs[ii, 2], abs(R_PC3))\n",
    "\n",
    "        rhos[ii, 0] = max(rhos[ii, 0], abs(rho_PC1))\n",
    "        rhos[ii, 1] = max(rhos[ii, 1], abs(rho_PC2))\n",
    "        #rhos[ii, 2] = max(rhos[ii, 2], abs(rho_PC3))\n",
    "\n"
   ]
  },
  {
   "cell_type": "code",
   "execution_count": 29,
   "metadata": {},
   "outputs": [
    {
     "data": {
      "text/plain": [
       "{'MEM': {'GIMME': ['GIMME_healthy_293T',\n",
       "   'GIMME_infected_293T',\n",
       "   'GIMME_healthy_A549',\n",
       "   'GIMME_infected_A549',\n",
       "   'GIMME_healthy_Calu-3',\n",
       "   'GIMME_infected_Calu-3',\n",
       "   'GIMME_healthy_Lung',\n",
       "   'GIMME_infected_Lung',\n",
       "   'GIMME_healthy_HBE',\n",
       "   'GIMME_infected_HBE'],\n",
       "  'iMAT': ['iMAT_healthy_293T',\n",
       "   'iMAT_infected_293T',\n",
       "   'iMAT_healthy_A549',\n",
       "   'iMAT_infected_A549',\n",
       "   'iMAT_healthy_Calu-3',\n",
       "   'iMAT_infected_Calu-3',\n",
       "   'iMAT_healthy_Lung',\n",
       "   'iMAT_infected_Lung',\n",
       "   'iMAT_healthy_HBE',\n",
       "   'iMAT_infected_HBE'],\n",
       "  'INIT': ['INIT_healthy_293T',\n",
       "   'INIT_infected_293T',\n",
       "   'INIT_healthy_A549',\n",
       "   'INIT_infected_A549',\n",
       "   'INIT_healthy_Calu-3',\n",
       "   'INIT_infected_Calu-3',\n",
       "   'INIT_healthy_Lung',\n",
       "   'INIT_infected_Lung',\n",
       "   'INIT_healthy_HBE',\n",
       "   'INIT_infected_HBE'],\n",
       "  'tINIT': ['tINIT_healthy_293T',\n",
       "   'tINIT_infected_293T',\n",
       "   'tINIT_healthy_A549',\n",
       "   'tINIT_infected_A549',\n",
       "   'tINIT_healthy_Calu-3',\n",
       "   'tINIT_infected_Calu-3',\n",
       "   'tINIT_healthy_Lung',\n",
       "   'tINIT_infected_Lung',\n",
       "   'tINIT_healthy_HBE',\n",
       "   'tINIT_infected_HBE']},\n",
       " 'infection': {'healthy': ['GIMME_healthy_293T',\n",
       "   'GIMME_healthy_A549',\n",
       "   'GIMME_healthy_Calu-3',\n",
       "   'GIMME_healthy_Lung',\n",
       "   'GIMME_healthy_HBE',\n",
       "   'iMAT_healthy_293T',\n",
       "   'iMAT_healthy_A549',\n",
       "   'iMAT_healthy_Calu-3',\n",
       "   'iMAT_healthy_Lung',\n",
       "   'iMAT_healthy_HBE',\n",
       "   'INIT_healthy_293T',\n",
       "   'INIT_healthy_A549',\n",
       "   'INIT_healthy_Calu-3',\n",
       "   'INIT_healthy_Lung',\n",
       "   'INIT_healthy_HBE',\n",
       "   'tINIT_healthy_293T',\n",
       "   'tINIT_healthy_A549',\n",
       "   'tINIT_healthy_Calu-3',\n",
       "   'tINIT_healthy_Lung',\n",
       "   'tINIT_healthy_HBE'],\n",
       "  'infected': ['GIMME_infected_293T',\n",
       "   'GIMME_infected_A549',\n",
       "   'GIMME_infected_Calu-3',\n",
       "   'GIMME_infected_Lung',\n",
       "   'GIMME_infected_HBE',\n",
       "   'iMAT_infected_293T',\n",
       "   'iMAT_infected_A549',\n",
       "   'iMAT_infected_Calu-3',\n",
       "   'iMAT_infected_Lung',\n",
       "   'iMAT_infected_HBE',\n",
       "   'INIT_infected_293T',\n",
       "   'INIT_infected_A549',\n",
       "   'INIT_infected_Calu-3',\n",
       "   'INIT_infected_Lung',\n",
       "   'INIT_infected_HBE',\n",
       "   'tINIT_infected_293T',\n",
       "   'tINIT_infected_A549',\n",
       "   'tINIT_infected_Calu-3',\n",
       "   'tINIT_infected_Lung',\n",
       "   'tINIT_infected_HBE']},\n",
       " 'dataset': {'293T': ['GIMME_healthy_293T',\n",
       "   'GIMME_infected_293T',\n",
       "   'iMAT_healthy_293T',\n",
       "   'iMAT_infected_293T',\n",
       "   'INIT_healthy_293T',\n",
       "   'INIT_infected_293T',\n",
       "   'tINIT_healthy_293T',\n",
       "   'tINIT_infected_293T'],\n",
       "  'A549': ['GIMME_healthy_A549',\n",
       "   'GIMME_infected_A549',\n",
       "   'iMAT_healthy_A549',\n",
       "   'iMAT_infected_A549',\n",
       "   'INIT_healthy_A549',\n",
       "   'INIT_infected_A549',\n",
       "   'tINIT_healthy_A549',\n",
       "   'tINIT_infected_A549'],\n",
       "  'Calu-3': ['GIMME_healthy_Calu-3',\n",
       "   'GIMME_infected_Calu-3',\n",
       "   'iMAT_healthy_Calu-3',\n",
       "   'iMAT_infected_Calu-3',\n",
       "   'INIT_healthy_Calu-3',\n",
       "   'INIT_infected_Calu-3',\n",
       "   'tINIT_healthy_Calu-3',\n",
       "   'tINIT_infected_Calu-3'],\n",
       "  'Lung': ['GIMME_healthy_Lung',\n",
       "   'GIMME_infected_Lung',\n",
       "   'iMAT_healthy_Lung',\n",
       "   'iMAT_infected_Lung',\n",
       "   'INIT_healthy_Lung',\n",
       "   'INIT_infected_Lung',\n",
       "   'tINIT_healthy_Lung',\n",
       "   'tINIT_infected_Lung'],\n",
       "  'HBE': ['GIMME_healthy_HBE',\n",
       "   'GIMME_infected_HBE',\n",
       "   'iMAT_healthy_HBE',\n",
       "   'iMAT_infected_HBE',\n",
       "   'INIT_healthy_HBE',\n",
       "   'INIT_infected_HBE',\n",
       "   'tINIT_healthy_HBE',\n",
       "   'tINIT_infected_HBE']}}"
      ]
     },
     "execution_count": 29,
     "metadata": {},
     "output_type": "execute_result"
    }
   ],
   "source": [
    "groups"
   ]
  },
  {
   "cell_type": "code",
   "execution_count": 30,
   "metadata": {},
   "outputs": [],
   "source": [
    "Rs2 = Rs ** 2\n",
    "#df_R2 = pd.DataFrame(data = Rs2, columns = ['R2(PC1)', 'R2(PC2)', 'R2(PC3)'])\n",
    "df_R2 = pd.DataFrame(data = Rs2, columns = ['R2(PC1)', 'R2(PC2)'])\n",
    "df_R2['factor'] = groups.keys()\n",
    "df_R2=df_R2.set_index('factor')"
   ]
  },
  {
   "cell_type": "code",
   "execution_count": 31,
   "metadata": {},
   "outputs": [
    {
     "data": {
      "text/html": [
       "<div>\n",
       "<style scoped>\n",
       "    .dataframe tbody tr th:only-of-type {\n",
       "        vertical-align: middle;\n",
       "    }\n",
       "\n",
       "    .dataframe tbody tr th {\n",
       "        vertical-align: top;\n",
       "    }\n",
       "\n",
       "    .dataframe thead th {\n",
       "        text-align: right;\n",
       "    }\n",
       "</style>\n",
       "<table border=\"1\" class=\"dataframe\">\n",
       "  <thead>\n",
       "    <tr style=\"text-align: right;\">\n",
       "      <th></th>\n",
       "      <th>R2(PC1)</th>\n",
       "      <th>R2(PC2)</th>\n",
       "    </tr>\n",
       "    <tr>\n",
       "      <th>factor</th>\n",
       "      <th></th>\n",
       "      <th></th>\n",
       "    </tr>\n",
       "  </thead>\n",
       "  <tbody>\n",
       "    <tr>\n",
       "      <th>MEM</th>\n",
       "      <td>0.888503</td>\n",
       "      <td>0.930996</td>\n",
       "    </tr>\n",
       "    <tr>\n",
       "      <th>infection</th>\n",
       "      <td>0.249230</td>\n",
       "      <td>0.238851</td>\n",
       "    </tr>\n",
       "    <tr>\n",
       "      <th>dataset</th>\n",
       "      <td>0.081567</td>\n",
       "      <td>0.090160</td>\n",
       "    </tr>\n",
       "  </tbody>\n",
       "</table>\n",
       "</div>"
      ],
      "text/plain": [
       "            R2(PC1)   R2(PC2)\n",
       "factor                       \n",
       "MEM        0.888503  0.930996\n",
       "infection  0.249230  0.238851\n",
       "dataset    0.081567  0.090160"
      ]
     },
     "execution_count": 31,
     "metadata": {},
     "output_type": "execute_result"
    }
   ],
   "source": [
    "df_R2"
   ]
  },
  {
   "cell_type": "code",
   "execution_count": 32,
   "metadata": {},
   "outputs": [],
   "source": [
    "df_R2.to_csv(\"results_PCA_sampling\\\\\"+\"sampling_variability_explained\"+label_MEM+\".csv\")"
   ]
  },
  {
   "cell_type": "markdown",
   "metadata": {},
   "source": [
    "# t-SNE"
   ]
  },
  {
   "cell_type": "code",
   "execution_count": 33,
   "metadata": {},
   "outputs": [],
   "source": [
    "if selected_MEM:\n",
    "    perplexity = 5\n",
    "else:\n",
    "    perplexity = 15"
   ]
  },
  {
   "cell_type": "code",
   "execution_count": 34,
   "metadata": {},
   "outputs": [],
   "source": [
    "tSNE = TSNE(n_components=n_components, perplexity = perplexity,  n_iter=5000)\n",
    "comps = tSNE.fit_transform(M)\n",
    "#df = pd.DataFrame(data = comps, columns = ['PC1', 'PC2', 'PC3'][:n_components])\n",
    "df = pd.DataFrame(data = comps, columns = ['PC1', 'PC2'][:n_components])\n",
    "df['model'] = model_names"
   ]
  },
  {
   "cell_type": "code",
   "execution_count": 35,
   "metadata": {},
   "outputs": [
    {
     "data": {
      "image/png": "[encoded data removed]",
      "text/plain": [
       "<Figure size 1440x720 with 1 Axes>"
      ]
     },
     "metadata": {
      "needs_background": "light"
     },
     "output_type": "display_data"
    },
    {
     "data": {
      "image/png": "[encoded data removed]",
      "text/plain": [
       "<Figure size 1440x720 with 1 Axes>"
      ]
     },
     "metadata": {
      "needs_background": "light"
     },
     "output_type": "display_data"
    },
    {
     "data": {
      "image/png": "[encoded data removed]",
      "text/plain": [
       "<Figure size 1440x720 with 1 Axes>"
      ]
     },
     "metadata": {
      "needs_background": "light"
     },
     "output_type": "display_data"
    }
   ],
   "source": [
    "for c in combinations(range(n_components), 2):\n",
    "    i1 = c[0]\n",
    "    i2 = c[1]\n",
    "    for factor in groups:\n",
    "        for group, models_group in groups[factor].items():                        \n",
    "            locs = np.isin(model_names, models_group)\n",
    "            plt.plot(comps[locs,i1], comps[locs,i2],\"o\", label=group)\n",
    "            if selected_MEM:\n",
    "                for model in model_names:\n",
    "                    locs1 = np.isin(model_names, model)\n",
    "                    x = comps[locs1,i1][0]\n",
    "                    y = comps[locs1,i2][0]\n",
    "                    plt.text(x+0.05,y+0.05,model)\n",
    "\n",
    "            \n",
    "            \n",
    "        #for model, x, y in zip(models, comps[:,i1], comps[:,i2]):        \n",
    "        #    plt.text(x+0.05,y+0.05,model)\n",
    "\n",
    "        if selected_MEM:\n",
    "            plt.title(f'{factor}({selected_MEM})')\n",
    "        else:\n",
    "            plt.title(factor)\n",
    "        plt.xlabel(\"C\"+str(i1+1))#plt.xlabel(\"PC\"+str(i1+1) + \" (\" + str(round(100*pca_explained[i1],2))+\"%)\")\n",
    "        plt.ylabel(\"C\"+str(i2+1))#plt.ylabel(\"PC\"+str(i2+1) + \" (\" + str(round(100*pca_explained[i2],2))+\"%)\")\n",
    "        plt.legend()\n",
    "        plt.gcf().set_size_inches(20,10)\n",
    "        plt.savefig(\"results_PCA_sampling\\\\sampling_tSNE_\"+label_MEM+\"C\"+str(i1+1)+'_'+\"C\"+str(i2+1)+'_'+factor+\".pdf\", format=\"pdf\", bbox_inches = 'tight')\n",
    "        #plt.savefig(\"results_PCA_sampling\\\\sampling_tSNE_\"+label_MEM+\"C\"+str(i1+1)+'_'+\"C\"+str(i2+1)+'_'+factor+\".png\", format=\"png\", bbox_inches = 'tight')\n",
    "        plt.show()"
   ]
  },
  {
   "cell_type": "code",
   "execution_count": null,
   "metadata": {},
   "outputs": [],
   "source": []
  }
 ],
 "metadata": {
  "kernelspec": {
   "display_name": "Python 3.7.3 64-bit ('base': conda)",
   "language": "python",
   "name": "python37364bitbasecondacd385dda59854559b44e3f82ede14f15"
  },
  "language_info": {
   "codemirror_mode": {
    "name": "ipython",
    "version": 3
   },
   "file_extension": ".py",
   "mimetype": "text/x-python",
   "name": "python",
   "nbconvert_exporter": "python",
   "pygments_lexer": "ipython3",
   "version": "3.7.3"
  }
 },
 "nbformat": 4,
 "nbformat_minor": 2
}
