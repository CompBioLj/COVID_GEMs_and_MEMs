{
 "cells": [
  {
   "cell_type": "code",
   "execution_count": 1,
   "metadata": {},
   "outputs": [],
   "source": [
    "import pandas as pd\n",
    "import numpy as np\n",
    "import matplotlib.pyplot as plt\n",
    "import seaborn as sns\n",
    "\n",
    "import os\n",
    "import scipy.stats as stats\n",
    "\n",
    "import statsmodels.stats.multitest as multi"
   ]
  },
  {
   "cell_type": "code",
   "execution_count": 2,
   "metadata": {},
   "outputs": [],
   "source": [
    "plt.rcParams.update({'font.size': 14})"
   ]
  },
  {
   "cell_type": "code",
   "execution_count": 3,
   "metadata": {},
   "outputs": [],
   "source": [
    "folder = \"flux_samples\""
   ]
  },
  {
   "cell_type": "markdown",
   "metadata": {},
   "source": [
    "# Additional settings"
   ]
  },
  {
   "cell_type": "code",
   "execution_count": 4,
   "metadata": {},
   "outputs": [],
   "source": [
    "MEM_labels = {\"INIT\":\"INIT\", \"TINIT\":\"tINIT\", \"GIMME\":\"GIMME\", \"IMAT\":\"iMAT\"}\n",
    "dataset_labels = {'NHBE':'HBE', 'LUNG':'Lung', '293T':'293T', 'CALU':'Calu-3', 'A549':'A549'}\n",
    "\n",
    "order = {'MEM': ['iMAT', 'GIMME', 'INIT', 'tINIT'],\n",
    "         'infection': ['healthy', 'infected'],\n",
    "         'dataset': ['HBE', 'Lung', '293T', 'Calu-3', 'A549']}"
   ]
  },
  {
   "cell_type": "code",
   "execution_count": 5,
   "metadata": {},
   "outputs": [],
   "source": [
    "box = 1 # boxplots (1) or violinplots (0)"
   ]
  },
  {
   "cell_type": "markdown",
   "metadata": {},
   "source": [
    "# Metadata import"
   ]
  },
  {
   "cell_type": "code",
   "execution_count": 6,
   "metadata": {},
   "outputs": [],
   "source": [
    "models = [os.path.splitext(name)[0] for name in os.listdir(folder) if name.endswith('csv')]"
   ]
  },
  {
   "cell_type": "code",
   "execution_count": 7,
   "metadata": {},
   "outputs": [
    {
     "data": {
      "text/plain": [
       "['Gimme_293T_sample_H',\n",
       " 'Gimme_293T_sample_I',\n",
       " 'Gimme_A549_sample_H',\n",
       " 'Gimme_A549_sample_I',\n",
       " 'Gimme_CALU_sample_H']"
      ]
     },
     "execution_count": 7,
     "metadata": {},
     "output_type": "execute_result"
    }
   ],
   "source": [
    "models[:5]"
   ]
  },
  {
   "cell_type": "code",
   "execution_count": 8,
   "metadata": {},
   "outputs": [
    {
     "data": {
      "text/plain": [
       "40"
      ]
     },
     "execution_count": 8,
     "metadata": {},
     "output_type": "execute_result"
    }
   ],
   "source": [
    "len(models)"
   ]
  },
  {
   "cell_type": "code",
   "execution_count": 9,
   "metadata": {},
   "outputs": [],
   "source": [
    "MEMs = list(set([model.split(\"_\")[0] for model in models]))\n",
    "infections = list(set([model.split(\"_\")[3] for model in models]))\n",
    "datasets = list(set([model.split(\"_\")[1] for model in models]))"
   ]
  },
  {
   "cell_type": "code",
   "execution_count": 10,
   "metadata": {},
   "outputs": [
    {
     "data": {
      "text/plain": [
       "['init', 'Gimme', 'iMAT', 'Tinit']"
      ]
     },
     "execution_count": 10,
     "metadata": {},
     "output_type": "execute_result"
    }
   ],
   "source": [
    "MEMs"
   ]
  },
  {
   "cell_type": "code",
   "execution_count": 11,
   "metadata": {},
   "outputs": [
    {
     "data": {
      "text/plain": [
       "['A549', 'NHBE', 'CALU', 'Lung', '293T']"
      ]
     },
     "execution_count": 11,
     "metadata": {},
     "output_type": "execute_result"
    }
   ],
   "source": [
    "datasets"
   ]
  },
  {
   "cell_type": "code",
   "execution_count": 12,
   "metadata": {},
   "outputs": [
    {
     "data": {
      "text/plain": [
       "['I', 'H']"
      ]
     },
     "execution_count": 12,
     "metadata": {},
     "output_type": "execute_result"
    }
   ],
   "source": [
    "infections"
   ]
  },
  {
   "cell_type": "code",
   "execution_count": 13,
   "metadata": {},
   "outputs": [],
   "source": [
    "MEMs = {}\n",
    "infections = {}\n",
    "datasets = {}\n",
    "\n",
    "model_MEMs = {}\n",
    "model_infections = {}\n",
    "model_datasets = {}\n",
    "\n",
    "for model in models:\n",
    "    MEM = model.split(\"_\")[0]\n",
    "    MEM = MEM_labels[MEM.upper()]\n",
    "    \n",
    "    infection = model.split(\"_\")[3]\n",
    "    infection = 'healthy' if infection == 'H' else 'infected'\n",
    "    \n",
    "    dataset = model.split(\"_\")[1] \n",
    "    dataset = dataset_labels[dataset.upper()]\n",
    "    \n",
    "    if MEM not in MEMs:\n",
    "        MEMs[MEM] = []\n",
    "    if infection not in infections:\n",
    "        infections[infection] = []\n",
    "    if dataset not in datasets:\n",
    "        datasets[dataset] = []\n",
    "\n",
    "    MEMs[MEM].append(model)\n",
    "    infections[infection].append(model)\n",
    "    datasets[dataset].append(model)  \n",
    "    \n",
    "    model_MEMs[model] = MEM\n",
    "    model_infections[model] = infection\n",
    "    model_datasets[model] = dataset\n",
    "    "
   ]
  },
  {
   "cell_type": "code",
   "execution_count": 14,
   "metadata": {},
   "outputs": [],
   "source": [
    "groups = {\"MEM\": MEMs, \"infection\": infections, \"dataset\": datasets}"
   ]
  },
  {
   "cell_type": "code",
   "execution_count": 15,
   "metadata": {},
   "outputs": [
    {
     "data": {
      "text/plain": [
       "{'GIMME': ['Gimme_293T_sample_H',\n",
       "  'Gimme_293T_sample_I',\n",
       "  'Gimme_A549_sample_H',\n",
       "  'Gimme_A549_sample_I',\n",
       "  'Gimme_CALU_sample_H',\n",
       "  'Gimme_CALU_sample_I',\n",
       "  'Gimme_Lung_sample_H',\n",
       "  'Gimme_Lung_sample_I',\n",
       "  'Gimme_NHBE_sample_H',\n",
       "  'Gimme_NHBE_sample_I'],\n",
       " 'iMAT': ['iMAT_293T_sample_H',\n",
       "  'iMAT_293T_sample_I',\n",
       "  'iMAT_A549_sample_H',\n",
       "  'iMAT_A549_sample_I',\n",
       "  'iMAT_CALU_sample_H',\n",
       "  'iMAT_CALU_sample_I',\n",
       "  'iMAT_Lung_sample_H',\n",
       "  'iMAT_Lung_sample_I',\n",
       "  'iMAT_NHBE_sample_H',\n",
       "  'iMAT_NHBE_sample_I'],\n",
       " 'INIT': ['init_293T_sample_H',\n",
       "  'init_293T_sample_I',\n",
       "  'init_A549_sample_H',\n",
       "  'init_A549_sample_I',\n",
       "  'init_CALU_sample_H',\n",
       "  'init_CALU_sample_I',\n",
       "  'init_Lung_sample_H',\n",
       "  'init_Lung_sample_I',\n",
       "  'init_NHBE_sample_H',\n",
       "  'init_NHBE_sample_I'],\n",
       " 'tINIT': ['Tinit_293T_sample_H',\n",
       "  'Tinit_293T_sample_I',\n",
       "  'Tinit_A549_sample_H',\n",
       "  'Tinit_A549_sample_I',\n",
       "  'Tinit_CALU_sample_H',\n",
       "  'Tinit_CALU_sample_I',\n",
       "  'Tinit_Lung_sample_H',\n",
       "  'Tinit_Lung_sample_I',\n",
       "  'Tinit_NHBE_sample_H',\n",
       "  'Tinit_NHBE_sample_I']}"
      ]
     },
     "execution_count": 15,
     "metadata": {},
     "output_type": "execute_result"
    }
   ],
   "source": [
    "groups[\"MEM\"]"
   ]
  },
  {
   "cell_type": "markdown",
   "metadata": {},
   "source": [
    "# Model import"
   ]
  },
  {
   "cell_type": "code",
   "execution_count": 16,
   "metadata": {},
   "outputs": [],
   "source": [
    "file_names = [file_name for file_name in os.listdir(folder) if file_name.endswith('csv')]"
   ]
  },
  {
   "cell_type": "code",
   "execution_count": 17,
   "metadata": {},
   "outputs": [],
   "source": [
    "model_reactions = {}\n",
    "for file_name in file_names:\n",
    "    model_name = os.path.splitext(file_name)[0]    \n",
    "    \n",
    "    df2 = pd.read_csv(os.path.join(folder,file_name), sep=\";\")\n",
    "    \n",
    "    \n",
    "    active_reactions = set()    \n",
    "    for reaction in df2.columns:\n",
    "        if df2[reaction].any():\n",
    "            active_reactions.add(reaction)\n",
    "    model_reactions[model_name] = active_reactions\n",
    "    \"\"\"\n",
    "    active_reactions = set()   \n",
    "    for i, (reaction, fluxes) in enumerate(zip(df2['reaction_ID'], df2['fluxes'])): \n",
    "        fluxes = np.array(fluxes[1:-1].split(\",\")).astype(float)\n",
    "        if np.any(fluxes):    \n",
    "            active_reactions.add(reaction)\n",
    "    \"\"\"\n",
    "                \n",
    "    #model_reactions[model_name] = active_reactions\n",
    "    "
   ]
  },
  {
   "cell_type": "markdown",
   "metadata": {},
   "source": [
    "# Model sizes\n"
   ]
  },
  {
   "cell_type": "code",
   "execution_count": 18,
   "metadata": {},
   "outputs": [],
   "source": [
    "df_sizes = pd.DataFrame(columns = [\"model\", \"MEM\", \"infection\", \"dataset\", \"size\"], dtype=float)\n",
    "\n",
    "for model_name, active_reactions in model_reactions.items():\n",
    "    model = model_name      \n",
    "    size = len(active_reactions)\n",
    "    MEM = model_MEMs[model]\n",
    "    infection = model_infections[model]\n",
    "    dataset = model_datasets[model]\n",
    "    \n",
    "    d = {'model': model, 'size':size, 'MEM': MEM, 'infection': infection, 'dataset': dataset}\n",
    "    df_sizes = df_sizes.append(d, ignore_index=True, sort=False)"
   ]
  },
  {
   "cell_type": "code",
   "execution_count": 19,
   "metadata": {},
   "outputs": [],
   "source": [
    "df_sizes.to_csv('results_basic\\\\model_sizes_sampling.csv', index=False)"
   ]
  },
  {
   "cell_type": "code",
   "execution_count": 20,
   "metadata": {},
   "outputs": [
    {
     "data": {
      "text/html": [
       "<div>\n",
       "<style scoped>\n",
       "    .dataframe tbody tr th:only-of-type {\n",
       "        vertical-align: middle;\n",
       "    }\n",
       "\n",
       "    .dataframe tbody tr th {\n",
       "        vertical-align: top;\n",
       "    }\n",
       "\n",
       "    .dataframe thead th {\n",
       "        text-align: right;\n",
       "    }\n",
       "</style>\n",
       "<table border=\"1\" class=\"dataframe\">\n",
       "  <thead>\n",
       "    <tr style=\"text-align: right;\">\n",
       "      <th></th>\n",
       "      <th>size</th>\n",
       "    </tr>\n",
       "  </thead>\n",
       "  <tbody>\n",
       "    <tr>\n",
       "      <th>count</th>\n",
       "      <td>40.000000</td>\n",
       "    </tr>\n",
       "    <tr>\n",
       "      <th>mean</th>\n",
       "      <td>2243.925000</td>\n",
       "    </tr>\n",
       "    <tr>\n",
       "      <th>std</th>\n",
       "      <td>693.992588</td>\n",
       "    </tr>\n",
       "    <tr>\n",
       "      <th>min</th>\n",
       "      <td>1105.000000</td>\n",
       "    </tr>\n",
       "    <tr>\n",
       "      <th>25%</th>\n",
       "      <td>1564.000000</td>\n",
       "    </tr>\n",
       "    <tr>\n",
       "      <th>50%</th>\n",
       "      <td>2385.500000</td>\n",
       "    </tr>\n",
       "    <tr>\n",
       "      <th>75%</th>\n",
       "      <td>2884.500000</td>\n",
       "    </tr>\n",
       "    <tr>\n",
       "      <th>max</th>\n",
       "      <td>3099.000000</td>\n",
       "    </tr>\n",
       "  </tbody>\n",
       "</table>\n",
       "</div>"
      ],
      "text/plain": [
       "              size\n",
       "count    40.000000\n",
       "mean   2243.925000\n",
       "std     693.992588\n",
       "min    1105.000000\n",
       "25%    1564.000000\n",
       "50%    2385.500000\n",
       "75%    2884.500000\n",
       "max    3099.000000"
      ]
     },
     "execution_count": 20,
     "metadata": {},
     "output_type": "execute_result"
    }
   ],
   "source": [
    "df_sizes.describe()"
   ]
  },
  {
   "cell_type": "code",
   "execution_count": 21,
   "metadata": {},
   "outputs": [
    {
     "data": {
      "image/png": "[encoded data removed]",
      "text/plain": [
       "<Figure size 1440x720 with 3 Axes>"
      ]
     },
     "metadata": {
      "needs_background": "light"
     },
     "output_type": "display_data"
    }
   ],
   "source": [
    "data = df_sizes\n",
    "\n",
    "fig, axes = plt.subplots(1,len(groups))\n",
    "\n",
    "for i,factor in enumerate(groups):\n",
    "    \n",
    "    \n",
    "    ax = axes.flat[i]\n",
    "    \n",
    "    if box:\n",
    "        sns.boxplot(x=factor, y='size', data=data, palette=\"muted\", showfliers = True, ax=ax, order=order[factor])\n",
    "    else:    \n",
    "        sns.violinplot(x=factor, y='size', data=data, palette=\"muted\", ax=ax, cut=0, order=order[factor])\n",
    "    \n",
    "fig.set_size_inches([20,10])\n",
    "plt.savefig(os.path.join('results_basic\\\\model_sizes_sampling.pdf'), bbox_inches = 'tight')\n",
    "    \n",
    "plt.show()\n",
    "    "
   ]
  },
  {
   "cell_type": "markdown",
   "metadata": {},
   "source": [
    "## Statistics"
   ]
  },
  {
   "cell_type": "code",
   "execution_count": 22,
   "metadata": {},
   "outputs": [],
   "source": [
    "f = open(\"results_basic\\\\model_statistics_sampling.txt\", \"w\")\n",
    "\n",
    "for factor in groups:\n",
    "    print(\"*****\", file=f)\n",
    "    print(factor, file=f)\n",
    "    print(\"***\", file=f)\n",
    "    for group in groups[factor]:\n",
    "        print(group, file=f)\n",
    "        print(df_sizes[df_sizes[factor] == group].describe(), file=f)\n",
    "        print(\"***\", file=f)\n",
    "        \n",
    "f.close()"
   ]
  },
  {
   "cell_type": "markdown",
   "metadata": {},
   "source": [
    "### p-values"
   ]
  },
  {
   "cell_type": "code",
   "execution_count": 23,
   "metadata": {},
   "outputs": [
    {
     "data": {
      "text/plain": [
       "{'MEM': 4.84247053982022e-07,\n",
       " 'infection': 0.023213275854449617,\n",
       " 'dataset': 0.9877192829550508}"
      ]
     },
     "execution_count": 23,
     "metadata": {},
     "output_type": "execute_result"
    }
   ],
   "source": [
    "res = {}\n",
    "\n",
    "for factor in groups:\n",
    "    s = []\n",
    "    for value in groups[factor]:\n",
    "        sizes = df_sizes.loc[df_sizes[factor]==value, 'size']\n",
    "        s.append(list(sizes))\n",
    "    \n",
    "    if len(s) == 2:\n",
    "        p = stats.ks_2samp(*s)[1] # KS\n",
    "        #p = stats.mannwhitneyu(*s)[1] # MW\n",
    "        #p = stats.ttest_ind(*s)[1] # unpaired t-test\n",
    "    else:\n",
    "        p = stats.kruskal(*s)[1]\n",
    "        \n",
    "    res[factor] = p\n",
    "\n",
    "res   "
   ]
  },
  {
   "cell_type": "markdown",
   "metadata": {},
   "source": [
    "# Jaccard index\n",
    "* within vs. between a factor\n",
    "\n",
    "Example:\n",
    "* within: combinations between the models for GIMME\n",
    "* between: combinations of a GIMME model with all other models"
   ]
  },
  {
   "cell_type": "code",
   "execution_count": 24,
   "metadata": {},
   "outputs": [],
   "source": [
    "def jaccard(s1, s2):\n",
    "    return len(s1&s2)/len(s1|s2)"
   ]
  },
  {
   "cell_type": "code",
   "execution_count": 25,
   "metadata": {},
   "outputs": [],
   "source": [
    "df_jaccard = pd.DataFrame(columns=['pair', 'MEM1', 'MEM2', 'infection1', 'infection2', 'dataset1', 'dataset2', 'Jaccard'])\n",
    "# factor: MEM, dataset, infection\n",
    "# group: factor value\n",
    "# type: 'within' or 'between'\n",
    "# Jaccard: Jaccard index\n",
    "\n",
    "for model1 in models:\n",
    "    for model2 in models:\n",
    "        if model1 < model2:\n",
    "            pair = model1, model2\n",
    "        elif model1 > model2:\n",
    "            pair = model2, model1\n",
    "        else:\n",
    "            continue\n",
    "    \n",
    "        if pair in df_jaccard['pair']:\n",
    "            continue\n",
    "        d = {'pair': pair}\n",
    "        d['MEM1'] = model_MEMs[model1]\n",
    "        d['MEM2'] = model_MEMs[model2]\n",
    "        d['infection1'] = model_infections[model1]\n",
    "        d['infection2'] = model_infections[model2]\n",
    "        d['dataset1'] = model_datasets[model1]\n",
    "        d['dataset2'] = model_datasets[model2]\n",
    "        d['Jaccard'] = jaccard(model_reactions[model1], model_reactions[model2])\n",
    "        \n",
    "        df_jaccard = df_jaccard.append(d, ignore_index=True, sort=False)"
   ]
  },
  {
   "cell_type": "code",
   "execution_count": 26,
   "metadata": {},
   "outputs": [],
   "source": [
    "df_jaccard.to_csv('results_basic\\\\jaccard.csv', index=False)"
   ]
  },
  {
   "cell_type": "markdown",
   "metadata": {},
   "source": [
    "## Within the groups"
   ]
  },
  {
   "cell_type": "code",
   "execution_count": 27,
   "metadata": {},
   "outputs": [
    {
     "data": {
      "image/png": "[encoded data removed]",
      "text/plain": [
       "<Figure size 1440x720 with 3 Axes>"
      ]
     },
     "metadata": {
      "needs_background": "light"
     },
     "output_type": "display_data"
    }
   ],
   "source": [
    "fig, axes = plt.subplots(1,len(groups))\n",
    "\n",
    "for i,factor in enumerate(groups):  \n",
    "    ax = axes.flat[i]\n",
    "        \n",
    "    condition = df_jaccard[f'{factor}1'] == df_jaccard[f'{factor}2']\n",
    "    data = df_jaccard[condition]\n",
    "    \n",
    "    if box:\n",
    "        sns.boxplot(x=f'{factor}1', y='Jaccard', data=data, palette=\"muted\", showfliers = True, ax=ax, order=order[factor])\n",
    "    else:    \n",
    "        sns.violinplot(x=f'{factor}1', y='Jaccard', data=data, palette=\"muted\", ax=ax, cut=0, order=order[factor])\n",
    "    \n",
    "    ax.set_xlabel(factor)\n",
    "    \n",
    "#plt.suptitle(\"Jaccard index within the groups\")       \n",
    "fig.set_size_inches([20,10])\n",
    "plt.savefig(os.path.join('results_basic\\\\jaccard_sampling_within.pdf'), bbox_inches = 'tight')\n",
    "    \n",
    "plt.show()    "
   ]
  },
  {
   "cell_type": "markdown",
   "metadata": {},
   "source": [
    "# Between the groups"
   ]
  },
  {
   "cell_type": "code",
   "execution_count": 28,
   "metadata": {},
   "outputs": [
    {
     "data": {
      "image/png": "[encoded data removed]",
      "text/plain": [
       "<Figure size 1440x720 with 3 Axes>"
      ]
     },
     "metadata": {
      "needs_background": "light"
     },
     "output_type": "display_data"
    }
   ],
   "source": [
    "fig, axes = plt.subplots(1,len(groups))\n",
    "\n",
    "for i,factor in enumerate(groups):  \n",
    "    ax = axes.flat[i]\n",
    "        \n",
    "    condition = df_jaccard[f'{factor}1'] != df_jaccard[f'{factor}2']\n",
    "    data = df_jaccard[condition]\n",
    "    \n",
    "    if box:\n",
    "        sns.boxplot(x=f'{factor}1', y='Jaccard', data=data, palette=\"muted\", showfliers = True, ax=ax, order=order[factor])\n",
    "    else:    \n",
    "        sns.violinplot(x=f'{factor}1', y='Jaccard', data=data, palette=\"muted\", ax=ax, cut=0, order=order[factor])\n",
    "    \n",
    "    ax.set_xlabel(factor)\n",
    "    \n",
    "#plt.suptitle(\"Jaccard index between the groups\")       \n",
    "fig.set_size_inches([20,10])\n",
    "plt.savefig(os.path.join('results_basic\\\\jaccard_sampling_between.pdf'), bbox_inches = 'tight')\n",
    "    \n",
    "plt.show()    \n",
    "    "
   ]
  },
  {
   "cell_type": "markdown",
   "metadata": {},
   "source": [
    "### Two-sample Kolmogorov–Smirnov test of Jaccard index within and between the groups"
   ]
  },
  {
   "cell_type": "code",
   "execution_count": 29,
   "metadata": {},
   "outputs": [],
   "source": [
    "df_between = pd.DataFrame(columns=['factor', 'group', 'p', 'q'])\n",
    "\n",
    "for factor in groups:  \n",
    "    ax = axes.flat[i]\n",
    "        \n",
    "    condition1 = df_jaccard[f'{factor}1'] == df_jaccard[f'{factor}2']\n",
    "    within = df_jaccard[condition1]\n",
    "    \n",
    "    condition2 = df_jaccard[f'{factor}1'] != df_jaccard[f'{factor}2']\n",
    "    between = df_jaccard[condition]\n",
    "    \n",
    "    d = {'factor': factor}\n",
    "    \n",
    "    \n",
    "    for group in groups[factor]:\n",
    "        d['group'] = group        \n",
    "        x = within[within[f'{factor}1'] == f'{group}'].Jaccard.values\n",
    "        y = between[between[f'{factor}1'] == f'{group}'].Jaccard.values        \n",
    "        p = stats.ks_2samp(x,y)[1] # KS\n",
    "        d['p'] = p\n",
    "        df_between = df_between.append(d, ignore_index=True, sort=False)\n",
    "        \n",
    "df_between['q'] = multi.multipletests(df_between[\"p\"], method = 'fdr_bh')[1]"
   ]
  },
  {
   "cell_type": "code",
   "execution_count": 30,
   "metadata": {},
   "outputs": [],
   "source": [
    "f = open(\"results_basic\\\\jaccard_sampling.txt\", \"w\")\n",
    "print(df_between.round(5).to_latex(index=False), file=f)\n",
    "f.close()"
   ]
  },
  {
   "cell_type": "code",
   "execution_count": 31,
   "metadata": {},
   "outputs": [
    {
     "data": {
      "text/html": [
       "<div>\n",
       "<style scoped>\n",
       "    .dataframe tbody tr th:only-of-type {\n",
       "        vertical-align: middle;\n",
       "    }\n",
       "\n",
       "    .dataframe tbody tr th {\n",
       "        vertical-align: top;\n",
       "    }\n",
       "\n",
       "    .dataframe thead th {\n",
       "        text-align: right;\n",
       "    }\n",
       "</style>\n",
       "<table border=\"1\" class=\"dataframe\">\n",
       "  <thead>\n",
       "    <tr style=\"text-align: right;\">\n",
       "      <th></th>\n",
       "      <th>factor</th>\n",
       "      <th>group</th>\n",
       "      <th>p</th>\n",
       "      <th>q</th>\n",
       "    </tr>\n",
       "  </thead>\n",
       "  <tbody>\n",
       "    <tr>\n",
       "      <th>0</th>\n",
       "      <td>MEM</td>\n",
       "      <td>GIMME</td>\n",
       "      <td>0.00000</td>\n",
       "      <td>0.00000</td>\n",
       "    </tr>\n",
       "    <tr>\n",
       "      <th>1</th>\n",
       "      <td>MEM</td>\n",
       "      <td>iMAT</td>\n",
       "      <td>0.00000</td>\n",
       "      <td>0.00000</td>\n",
       "    </tr>\n",
       "    <tr>\n",
       "      <th>2</th>\n",
       "      <td>MEM</td>\n",
       "      <td>INIT</td>\n",
       "      <td>0.00000</td>\n",
       "      <td>0.00000</td>\n",
       "    </tr>\n",
       "    <tr>\n",
       "      <th>3</th>\n",
       "      <td>MEM</td>\n",
       "      <td>tINIT</td>\n",
       "      <td>0.00000</td>\n",
       "      <td>0.00000</td>\n",
       "    </tr>\n",
       "    <tr>\n",
       "      <th>4</th>\n",
       "      <td>infection</td>\n",
       "      <td>healthy</td>\n",
       "      <td>0.18812</td>\n",
       "      <td>0.20693</td>\n",
       "    </tr>\n",
       "    <tr>\n",
       "      <th>5</th>\n",
       "      <td>infection</td>\n",
       "      <td>infected</td>\n",
       "      <td>0.98165</td>\n",
       "      <td>0.98165</td>\n",
       "    </tr>\n",
       "    <tr>\n",
       "      <th>6</th>\n",
       "      <td>dataset</td>\n",
       "      <td>293T</td>\n",
       "      <td>0.00444</td>\n",
       "      <td>0.00813</td>\n",
       "    </tr>\n",
       "    <tr>\n",
       "      <th>7</th>\n",
       "      <td>dataset</td>\n",
       "      <td>A549</td>\n",
       "      <td>0.00004</td>\n",
       "      <td>0.00009</td>\n",
       "    </tr>\n",
       "    <tr>\n",
       "      <th>8</th>\n",
       "      <td>dataset</td>\n",
       "      <td>Calu-3</td>\n",
       "      <td>0.01245</td>\n",
       "      <td>0.01712</td>\n",
       "    </tr>\n",
       "    <tr>\n",
       "      <th>9</th>\n",
       "      <td>dataset</td>\n",
       "      <td>Lung</td>\n",
       "      <td>0.01245</td>\n",
       "      <td>0.01712</td>\n",
       "    </tr>\n",
       "    <tr>\n",
       "      <th>10</th>\n",
       "      <td>dataset</td>\n",
       "      <td>HBE</td>\n",
       "      <td>0.08281</td>\n",
       "      <td>0.10122</td>\n",
       "    </tr>\n",
       "  </tbody>\n",
       "</table>\n",
       "</div>"
      ],
      "text/plain": [
       "       factor     group        p        q\n",
       "0         MEM     GIMME  0.00000  0.00000\n",
       "1         MEM      iMAT  0.00000  0.00000\n",
       "2         MEM      INIT  0.00000  0.00000\n",
       "3         MEM     tINIT  0.00000  0.00000\n",
       "4   infection   healthy  0.18812  0.20693\n",
       "5   infection  infected  0.98165  0.98165\n",
       "6     dataset      293T  0.00444  0.00813\n",
       "7     dataset      A549  0.00004  0.00009\n",
       "8     dataset    Calu-3  0.01245  0.01712\n",
       "9     dataset      Lung  0.01245  0.01712\n",
       "10    dataset       HBE  0.08281  0.10122"
      ]
     },
     "execution_count": 31,
     "metadata": {},
     "output_type": "execute_result"
    }
   ],
   "source": [
    "df_between.round(5)"
   ]
  },
  {
   "cell_type": "code",
   "execution_count": null,
   "metadata": {},
   "outputs": [],
   "source": []
  }
 ],
 "metadata": {
  "kernelspec": {
   "display_name": "Python 3.7.3 64-bit ('base': conda)",
   "language": "python",
   "name": "python37364bitbasecondacd385dda59854559b44e3f82ede14f15"
  },
  "language_info": {
   "codemirror_mode": {
    "name": "ipython",
    "version": 3
   },
   "file_extension": ".py",
   "mimetype": "text/x-python",
   "name": "python",
   "nbconvert_exporter": "python",
   "pygments_lexer": "ipython3",
   "version": "3.7.3"
  }
 },
 "nbformat": 4,
 "nbformat_minor": 2
}
