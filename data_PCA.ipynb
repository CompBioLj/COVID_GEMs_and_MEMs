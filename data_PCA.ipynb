{
 "cells": [
  {
   "cell_type": "code",
   "execution_count": 1,
   "metadata": {},
   "outputs": [],
   "source": [
    "import pandas as pd\n",
    "import numpy as np\n",
    "import matplotlib.pyplot as plt\n",
    "import seaborn as sns\n",
    "\n",
    "import os\n",
    "import scipy.stats as stats\n",
    "\n",
    "import statsmodels.stats.multitest as multi\n",
    "\n",
    "from sklearn.decomposition import PCA\n",
    "from itertools import permutations, product, combinations\n",
    "from scipy.stats import pearsonr, spearmanr\n",
    "\n",
    "from sklearn.preprocessing import StandardScaler\n",
    "\n",
    "from sklearn.manifold import TSNE\n",
    "\n",
    "from scipy.io import loadmat"
   ]
  },
  {
   "cell_type": "code",
   "execution_count": 2,
   "metadata": {},
   "outputs": [],
   "source": [
    "plt.rcParams.update({'font.size': 14})"
   ]
  },
  {
   "cell_type": "code",
   "execution_count": 3,
   "metadata": {},
   "outputs": [],
   "source": [
    "folder = \"Code/Matlab\""
   ]
  },
  {
   "cell_type": "markdown",
   "metadata": {},
   "source": [
    "# Additional settings"
   ]
  },
  {
   "cell_type": "code",
   "execution_count": 4,
   "metadata": {},
   "outputs": [],
   "source": [
    "dataset_labels = {'NHBE':'HBE', 'LUNG':'Lung', 'T':'293T', 'CALU':'Calu-3', 'A549':'A549'}\n",
    "\n",
    "order = {'infection': ['healthy', 'infected'],\n",
    "         'dataset': ['HBE', 'Lung', '293T', 'Calu-3', 'A549']}"
   ]
  },
  {
   "cell_type": "code",
   "execution_count": 5,
   "metadata": {},
   "outputs": [],
   "source": [
    "data_files = [os.path.splitext(name)[0] for name in os.listdir(folder) if name.endswith('mat')]"
   ]
  },
  {
   "cell_type": "code",
   "execution_count": 6,
   "metadata": {},
   "outputs": [
    {
     "data": {
      "text/plain": [
       "['A549_Healthy_mean',\n",
       " 'A549_Infected_mean',\n",
       " 'CALU_Healthy_mean',\n",
       " 'CALU_Infected_mean',\n",
       " 'Lung_Healthy_mean',\n",
       " 'Lung_Infected_mean',\n",
       " 'NHBE_Healthy_mean',\n",
       " 'NHBE_Infected_mean',\n",
       " 'T_Healthy_mean',\n",
       " 'T_Infected_mean']"
      ]
     },
     "execution_count": 6,
     "metadata": {},
     "output_type": "execute_result"
    }
   ],
   "source": [
    "data_files"
   ]
  },
  {
   "cell_type": "code",
   "execution_count": 7,
   "metadata": {},
   "outputs": [
    {
     "data": {
      "text/plain": [
       "10"
      ]
     },
     "execution_count": 7,
     "metadata": {},
     "output_type": "execute_result"
    }
   ],
   "source": [
    "len(data_files)"
   ]
  },
  {
   "cell_type": "code",
   "execution_count": 8,
   "metadata": {},
   "outputs": [],
   "source": [
    "datasets = list(set([f.split(\"_\")[0] for f in data_files]))\n",
    "infections = list(set([f.split(\"_\")[1] for f in data_files]))"
   ]
  },
  {
   "cell_type": "code",
   "execution_count": 9,
   "metadata": {},
   "outputs": [
    {
     "data": {
      "text/plain": [
       "['CALU', 'T', 'Lung', 'NHBE', 'A549']"
      ]
     },
     "execution_count": 9,
     "metadata": {},
     "output_type": "execute_result"
    }
   ],
   "source": [
    "datasets"
   ]
  },
  {
   "cell_type": "code",
   "execution_count": 10,
   "metadata": {},
   "outputs": [
    {
     "data": {
      "text/plain": [
       "['Infected', 'Healthy']"
      ]
     },
     "execution_count": 10,
     "metadata": {},
     "output_type": "execute_result"
    }
   ],
   "source": [
    "infections"
   ]
  },
  {
   "cell_type": "code",
   "execution_count": 11,
   "metadata": {},
   "outputs": [],
   "source": [
    "infections = {}\n",
    "datasets = {}\n",
    "\n",
    "files_infections = {}\n",
    "files_datasets = {}\n",
    "\n",
    "for i,f in enumerate(data_files):\n",
    "    dataset = f.split(\"_\")[0]\n",
    "    dataset = dataset_labels[dataset.upper()]\n",
    "                   \n",
    "    infection = f.split(\"_\")[1]\n",
    "    infection = 'healthy' if infection == 'Healthy' else 'infected'\n",
    "    \n",
    "    if infection not in infections:\n",
    "        infections[infection] = []\n",
    "    if dataset not in datasets:\n",
    "        datasets[dataset] = []\n",
    "               \n",
    "    infections[infection].append(f)\n",
    "    datasets[dataset].append(f)  \n",
    "        \n",
    "    files_infections[f] = infection\n",
    "    files_datasets[f] = dataset\n",
    "\n"
   ]
  },
  {
   "cell_type": "code",
   "execution_count": 12,
   "metadata": {},
   "outputs": [],
   "source": [
    "groups = {\"infection\": infections, \"dataset\": datasets}"
   ]
  },
  {
   "cell_type": "code",
   "execution_count": 13,
   "metadata": {},
   "outputs": [
    {
     "data": {
      "text/plain": [
       "{'A549_Healthy_mean': 'healthy',\n",
       " 'A549_Infected_mean': 'infected',\n",
       " 'CALU_Healthy_mean': 'healthy',\n",
       " 'CALU_Infected_mean': 'infected',\n",
       " 'Lung_Healthy_mean': 'healthy',\n",
       " 'Lung_Infected_mean': 'infected',\n",
       " 'NHBE_Healthy_mean': 'healthy',\n",
       " 'NHBE_Infected_mean': 'infected',\n",
       " 'T_Healthy_mean': 'healthy',\n",
       " 'T_Infected_mean': 'infected'}"
      ]
     },
     "execution_count": 13,
     "metadata": {},
     "output_type": "execute_result"
    }
   ],
   "source": [
    "files_infections"
   ]
  },
  {
   "cell_type": "markdown",
   "metadata": {},
   "source": [
    "# Model import and preprocessing"
   ]
  },
  {
   "cell_type": "code",
   "execution_count": 14,
   "metadata": {},
   "outputs": [],
   "source": [
    "#file_names = [file_name for file_name in os.listdir(folder) if file_name.endswith('csv')]"
   ]
  },
  {
   "cell_type": "code",
   "execution_count": 15,
   "metadata": {},
   "outputs": [
    {
     "name": "stdout",
     "output_type": "stream",
     "text": [
      "A549_Healthy_mean:3387/3625; missing 238 genes\n",
      "A549_Infected_mean:3409/3625; missing 216 genes\n",
      "CALU_Healthy_mean:3414/3625; missing 211 genes\n",
      "CALU_Infected_mean:3421/3625; missing 204 genes\n",
      "Lung_Healthy_mean:3518/3625; missing 107 genes\n",
      "Lung_Infected_mean:2494/3625; missing 1131 genes\n",
      "NHBE_Healthy_mean:3360/3625; missing 265 genes\n",
      "NHBE_Infected_mean:3370/3625; missing 255 genes\n",
      "T_Healthy_mean:3347/3625; missing 278 genes\n",
      "T_Infected_mean:3360/3625; missing 265 genes\n"
     ]
    }
   ],
   "source": [
    "df = pd.DataFrame(columns=data_files)\n",
    "\n",
    "for f in data_files:\n",
    "    t = loadmat(os.path.join(folder,f'{f}.mat'))\n",
    "    m = t[f].astype(float)  \n",
    "    m[m==-1] = np.nan\n",
    "    \n",
    "    df[f] = m.flatten()\n",
    "    \n",
    "    print(f'{f}:{m[m!=0].shape[0]}/{m.shape[0]}; missing {m[m==0].shape[0]} genes')\n",
    "    \n",
    "df = df.fillna(0)"
   ]
  },
  {
   "cell_type": "code",
   "execution_count": 16,
   "metadata": {},
   "outputs": [
    {
     "data": {
      "text/html": [
       "<div>\n",
       "<style scoped>\n",
       "    .dataframe tbody tr th:only-of-type {\n",
       "        vertical-align: middle;\n",
       "    }\n",
       "\n",
       "    .dataframe tbody tr th {\n",
       "        vertical-align: top;\n",
       "    }\n",
       "\n",
       "    .dataframe thead th {\n",
       "        text-align: right;\n",
       "    }\n",
       "</style>\n",
       "<table border=\"1\" class=\"dataframe\">\n",
       "  <thead>\n",
       "    <tr style=\"text-align: right;\">\n",
       "      <th></th>\n",
       "      <th>A549_Healthy_mean</th>\n",
       "      <th>A549_Infected_mean</th>\n",
       "      <th>CALU_Healthy_mean</th>\n",
       "      <th>CALU_Infected_mean</th>\n",
       "      <th>Lung_Healthy_mean</th>\n",
       "      <th>Lung_Infected_mean</th>\n",
       "      <th>NHBE_Healthy_mean</th>\n",
       "      <th>NHBE_Infected_mean</th>\n",
       "      <th>T_Healthy_mean</th>\n",
       "      <th>T_Infected_mean</th>\n",
       "    </tr>\n",
       "  </thead>\n",
       "  <tbody>\n",
       "    <tr>\n",
       "      <th>0</th>\n",
       "      <td>61.409914</td>\n",
       "      <td>69.080277</td>\n",
       "      <td>116.277983</td>\n",
       "      <td>119.457355</td>\n",
       "      <td>46.139842</td>\n",
       "      <td>6.954333</td>\n",
       "      <td>66.039087</td>\n",
       "      <td>57.549820</td>\n",
       "      <td>86.446268</td>\n",
       "      <td>92.012819</td>\n",
       "    </tr>\n",
       "    <tr>\n",
       "      <th>1</th>\n",
       "      <td>0.000000</td>\n",
       "      <td>0.035317</td>\n",
       "      <td>0.000000</td>\n",
       "      <td>0.012096</td>\n",
       "      <td>38.788173</td>\n",
       "      <td>430.698370</td>\n",
       "      <td>0.071729</td>\n",
       "      <td>0.094904</td>\n",
       "      <td>0.000000</td>\n",
       "      <td>0.000000</td>\n",
       "    </tr>\n",
       "    <tr>\n",
       "      <th>2</th>\n",
       "      <td>46.854748</td>\n",
       "      <td>45.177975</td>\n",
       "      <td>42.907891</td>\n",
       "      <td>26.128591</td>\n",
       "      <td>15.838985</td>\n",
       "      <td>6.524210</td>\n",
       "      <td>23.400222</td>\n",
       "      <td>22.284725</td>\n",
       "      <td>48.625804</td>\n",
       "      <td>39.619417</td>\n",
       "    </tr>\n",
       "    <tr>\n",
       "      <th>3</th>\n",
       "      <td>134.905287</td>\n",
       "      <td>125.547454</td>\n",
       "      <td>19.920375</td>\n",
       "      <td>20.327953</td>\n",
       "      <td>3.835999</td>\n",
       "      <td>2.119917</td>\n",
       "      <td>146.468255</td>\n",
       "      <td>109.037748</td>\n",
       "      <td>43.484077</td>\n",
       "      <td>39.832963</td>\n",
       "    </tr>\n",
       "    <tr>\n",
       "      <th>4</th>\n",
       "      <td>73.182231</td>\n",
       "      <td>81.836277</td>\n",
       "      <td>44.786324</td>\n",
       "      <td>23.966473</td>\n",
       "      <td>11.765404</td>\n",
       "      <td>26.192000</td>\n",
       "      <td>66.883642</td>\n",
       "      <td>66.451842</td>\n",
       "      <td>81.795080</td>\n",
       "      <td>63.541433</td>\n",
       "    </tr>\n",
       "  </tbody>\n",
       "</table>\n",
       "</div>"
      ],
      "text/plain": [
       "   A549_Healthy_mean  A549_Infected_mean  CALU_Healthy_mean  \\\n",
       "0          61.409914           69.080277         116.277983   \n",
       "1           0.000000            0.035317           0.000000   \n",
       "2          46.854748           45.177975          42.907891   \n",
       "3         134.905287          125.547454          19.920375   \n",
       "4          73.182231           81.836277          44.786324   \n",
       "\n",
       "   CALU_Infected_mean  Lung_Healthy_mean  Lung_Infected_mean  \\\n",
       "0          119.457355          46.139842            6.954333   \n",
       "1            0.012096          38.788173          430.698370   \n",
       "2           26.128591          15.838985            6.524210   \n",
       "3           20.327953           3.835999            2.119917   \n",
       "4           23.966473          11.765404           26.192000   \n",
       "\n",
       "   NHBE_Healthy_mean  NHBE_Infected_mean  T_Healthy_mean  T_Infected_mean  \n",
       "0          66.039087           57.549820       86.446268        92.012819  \n",
       "1           0.071729            0.094904        0.000000         0.000000  \n",
       "2          23.400222           22.284725       48.625804        39.619417  \n",
       "3         146.468255          109.037748       43.484077        39.832963  \n",
       "4          66.883642           66.451842       81.795080        63.541433  "
      ]
     },
     "execution_count": 16,
     "metadata": {},
     "output_type": "execute_result"
    }
   ],
   "source": [
    "df.head()"
   ]
  },
  {
   "cell_type": "code",
   "execution_count": null,
   "metadata": {},
   "outputs": [],
   "source": []
  },
  {
   "cell_type": "code",
   "execution_count": 17,
   "metadata": {},
   "outputs": [
    {
     "name": "stdout",
     "output_type": "stream",
     "text": [
      "(10, 3592)\n"
     ]
    }
   ],
   "source": [
    "M = np.transpose(df.values)\n",
    "M = M[:,~np.all(M==0, axis=0)]\n",
    "#M = M[:,~np.any(M==0, axis=0)]\n",
    "print(M.shape)\n",
    "M = StandardScaler(with_mean=True, with_std=False).fit_transform(M) #centering only"
   ]
  },
  {
   "cell_type": "code",
   "execution_count": null,
   "metadata": {},
   "outputs": [],
   "source": []
  },
  {
   "cell_type": "markdown",
   "metadata": {},
   "source": [
    "# PCA"
   ]
  },
  {
   "cell_type": "code",
   "execution_count": 18,
   "metadata": {},
   "outputs": [],
   "source": [
    "n_components = 2"
   ]
  },
  {
   "cell_type": "code",
   "execution_count": 19,
   "metadata": {},
   "outputs": [],
   "source": [
    "pca = PCA(n_components=n_components)\n",
    "comps = pca.fit_transform(M)\n",
    "df = pd.DataFrame(data = comps, columns = ['PC1', 'PC2'])\n",
    "df['data'] = data_files"
   ]
  },
  {
   "cell_type": "code",
   "execution_count": 20,
   "metadata": {},
   "outputs": [],
   "source": [
    "df_pca = pd.DataFrame()\n",
    "df_pca = df_pca.append(pd.DataFrame(pca.explained_variance_).T)\n",
    "df_pca = df_pca.append(pd.DataFrame(pca.explained_variance_ratio_).T)\n",
    "df_pca.columns = ['PC1', 'PC2']\n",
    "df_pca['label'] = ['explained variance', 'explained variance ratio']\n",
    "df_pca = df_pca.set_index('label')\n",
    "df_pca.to_csv(\"results_PCA_data\\\\\"+\"explained_variance.csv\")"
   ]
  },
  {
   "cell_type": "code",
   "execution_count": 21,
   "metadata": {},
   "outputs": [
    {
     "data": {
      "text/html": [
       "<div>\n",
       "<style scoped>\n",
       "    .dataframe tbody tr th:only-of-type {\n",
       "        vertical-align: middle;\n",
       "    }\n",
       "\n",
       "    .dataframe tbody tr th {\n",
       "        vertical-align: top;\n",
       "    }\n",
       "\n",
       "    .dataframe thead th {\n",
       "        text-align: right;\n",
       "    }\n",
       "</style>\n",
       "<table border=\"1\" class=\"dataframe\">\n",
       "  <thead>\n",
       "    <tr style=\"text-align: right;\">\n",
       "      <th></th>\n",
       "      <th>PC1</th>\n",
       "      <th>PC2</th>\n",
       "    </tr>\n",
       "    <tr>\n",
       "      <th>label</th>\n",
       "      <th></th>\n",
       "      <th></th>\n",
       "    </tr>\n",
       "  </thead>\n",
       "  <tbody>\n",
       "    <tr>\n",
       "      <th>explained variance</th>\n",
       "      <td>6.567187e+08</td>\n",
       "      <td>1.289588e+08</td>\n",
       "    </tr>\n",
       "    <tr>\n",
       "      <th>explained variance ratio</th>\n",
       "      <td>6.842919e-01</td>\n",
       "      <td>1.343733e-01</td>\n",
       "    </tr>\n",
       "  </tbody>\n",
       "</table>\n",
       "</div>"
      ],
      "text/plain": [
       "                                   PC1           PC2\n",
       "label                                               \n",
       "explained variance        6.567187e+08  1.289588e+08\n",
       "explained variance ratio  6.842919e-01  1.343733e-01"
      ]
     },
     "execution_count": 21,
     "metadata": {},
     "output_type": "execute_result"
    }
   ],
   "source": [
    "df_pca"
   ]
  },
  {
   "cell_type": "code",
   "execution_count": 22,
   "metadata": {},
   "outputs": [
    {
     "data": {
      "text/plain": [
       "array([0.68429195, 0.13437334])"
      ]
     },
     "execution_count": 22,
     "metadata": {},
     "output_type": "execute_result"
    }
   ],
   "source": [
    "pca_explained = pca.explained_variance_ratio_\n",
    "pca_explained"
   ]
  },
  {
   "cell_type": "code",
   "execution_count": 23,
   "metadata": {},
   "outputs": [
    {
     "data": {
      "image/png": "[encoded data removed]",
      "text/plain": [
       "<Figure size 1440x720 with 1 Axes>"
      ]
     },
     "metadata": {
      "needs_background": "light"
     },
     "output_type": "display_data"
    },
    {
     "data": {
      "image/png": "[encoded data removed]",
      "text/plain": [
       "<Figure size 1440x720 with 1 Axes>"
      ]
     },
     "metadata": {
      "needs_background": "light"
     },
     "output_type": "display_data"
    }
   ],
   "source": [
    "#print(data_files)\n",
    "\n",
    "for c in combinations(range(n_components), 2):\n",
    "    i1 = c[0]\n",
    "    i2 = c[1]\n",
    "\n",
    "    for factor in groups:\n",
    "        for group, data_group in groups[factor].items():                          \n",
    "            locs = np.isin(data_files, data_group)\n",
    "            #print(group,data_group, locs)\n",
    "            plt.plot(comps[locs,i1], comps[locs,i2],\"o\", label=group)\n",
    "            \n",
    "     \n",
    "        plt.title(factor)\n",
    "        \n",
    "        plt.xlabel(\"PC\"+str(i1+1) + \" (\" + str(round(100*pca_explained[i1],2))+\"%)\")\n",
    "        plt.ylabel(\"PC\"+str(i2+1) + \" (\" + str(round(100*pca_explained[i2],2))+\"%)\")\n",
    "        plt.legend()\n",
    "        plt.gcf().set_size_inches(20,10)\n",
    "        plt.savefig(\"results_PCA_data\\\\PCA_PC\"+str(i1+1)+'_'+\"PC\"+str(i2+1)+'_'+factor+\".pdf\", format=\"pdf\", bbox_inches = 'tight')\n",
    "        #plt.savefig(\"results_PCA\\\\PCA_\"+label_MEM+\"PC\"+str(i1+1)+'_'+\"PC\"+str(i2+1)+'_'+factor+\".png\", format=\"png\", bbox_inches = 'tight')\n",
    "        plt.show()\n",
    "        "
   ]
  },
  {
   "cell_type": "markdown",
   "metadata": {},
   "source": [
    "# Variance explanation"
   ]
  },
  {
   "cell_type": "code",
   "execution_count": 24,
   "metadata": {},
   "outputs": [],
   "source": [
    "factors = list(groups.keys())\n",
    "Rs = np.zeros((len(factors), 2))\n",
    "rhos = np.zeros((len(factors), 2))\n",
    "\n",
    "\n",
    "for ii, factor in enumerate(groups):\n",
    "    scores1 = []\n",
    "    scores2 = []\n",
    "    #scores3 = []\n",
    "    \n",
    "    \"\"\"for i in range(len(groups[factor])):\n",
    "        idxs = np.array(np.where(np.isin(models, groups[factor][i])==True)).flatten()\n",
    "        scores1.append(sorted(df.iloc[idxs, 0].values))\n",
    "        scores2.append(sorted(df.iloc[idxs, 1].values))\n",
    "        #scores3.append(sorted(df.iloc[idxs, 2].values))\n",
    "    \"\"\"\n",
    "    for files_factor in groups[factor].values():\n",
    "        idxs = np.array(np.where(np.isin(data_files, files_factor)==True)).flatten()\n",
    "        scores1.append(sorted(df.iloc[idxs, 0].values))\n",
    "        scores2.append(sorted(df.iloc[idxs, 1].values))\n",
    "        #scores3.append(sorted(df.iloc[idxs, 2].values))\n",
    "    \n",
    "    for idx in permutations(range(len(scores1))):\n",
    "        s1 = []\n",
    "        s2 = []\n",
    "        #s3 = []        \n",
    "        for i in idx:\n",
    "            s1 += scores1[i]\n",
    "            s2 += scores2[i]\n",
    "            #s3 += scores3[i]\n",
    "            \n",
    "        \n",
    "        R_PC1 = pearsonr(np.arange(len(s1)), s1)[0]\n",
    "        R_PC2 = pearsonr(np.arange(len(s2)), s2)[0]\n",
    "        #R_PC3 = pearsonr(np.arange(len(s3)), s3)[0]\n",
    "\n",
    "        rho_PC1 = spearmanr(np.arange(len(s1)), s1)[0]\n",
    "        rho_PC2 = spearmanr(np.arange(len(s2)), s2)[0]\n",
    "        #rho_PC3 = spearmanr(np.arange(len(s3)), s3)[0]\n",
    "\n",
    "        Rs[ii, 0] = max(Rs[ii, 0], abs(R_PC1))\n",
    "        Rs[ii, 1] = max(Rs[ii, 1], abs(R_PC2))\n",
    "        #Rs[ii, 2] = max(Rs[ii, 2], abs(R_PC3))\n",
    "\n",
    "        rhos[ii, 0] = max(rhos[ii, 0], abs(rho_PC1))\n",
    "        rhos[ii, 1] = max(rhos[ii, 1], abs(rho_PC2))\n",
    "        #rhos[ii, 2] = max(rhos[ii, 2], abs(rho_PC3))\n",
    "\n"
   ]
  },
  {
   "cell_type": "code",
   "execution_count": 25,
   "metadata": {},
   "outputs": [
    {
     "data": {
      "text/plain": [
       "{'infection': {'healthy': ['A549_Healthy_mean',\n",
       "   'CALU_Healthy_mean',\n",
       "   'Lung_Healthy_mean',\n",
       "   'NHBE_Healthy_mean',\n",
       "   'T_Healthy_mean'],\n",
       "  'infected': ['A549_Infected_mean',\n",
       "   'CALU_Infected_mean',\n",
       "   'Lung_Infected_mean',\n",
       "   'NHBE_Infected_mean',\n",
       "   'T_Infected_mean']},\n",
       " 'dataset': {'A549': ['A549_Healthy_mean', 'A549_Infected_mean'],\n",
       "  'Calu-3': ['CALU_Healthy_mean', 'CALU_Infected_mean'],\n",
       "  'Lung': ['Lung_Healthy_mean', 'Lung_Infected_mean'],\n",
       "  'HBE': ['NHBE_Healthy_mean', 'NHBE_Infected_mean'],\n",
       "  '293T': ['T_Healthy_mean', 'T_Infected_mean']}}"
      ]
     },
     "execution_count": 25,
     "metadata": {},
     "output_type": "execute_result"
    }
   ],
   "source": [
    "groups"
   ]
  },
  {
   "cell_type": "code",
   "execution_count": 26,
   "metadata": {},
   "outputs": [],
   "source": [
    "Rs2 = Rs ** 2\n",
    "#df_R2 = pd.DataFrame(data = Rs2, columns = ['R2(PC1)', 'R2(PC2)', 'R2(PC3)'])\n",
    "df_R2 = pd.DataFrame(data = Rs2, columns = ['R2(PC1)', 'R2(PC2)'])\n",
    "df_R2['factor'] = groups.keys()\n",
    "df_R2=df_R2.set_index('factor')"
   ]
  },
  {
   "cell_type": "code",
   "execution_count": 27,
   "metadata": {},
   "outputs": [
    {
     "data": {
      "text/html": [
       "<div>\n",
       "<style scoped>\n",
       "    .dataframe tbody tr th:only-of-type {\n",
       "        vertical-align: middle;\n",
       "    }\n",
       "\n",
       "    .dataframe tbody tr th {\n",
       "        vertical-align: top;\n",
       "    }\n",
       "\n",
       "    .dataframe thead th {\n",
       "        text-align: right;\n",
       "    }\n",
       "</style>\n",
       "<table border=\"1\" class=\"dataframe\">\n",
       "  <thead>\n",
       "    <tr style=\"text-align: right;\">\n",
       "      <th></th>\n",
       "      <th>R2(PC1)</th>\n",
       "      <th>R2(PC2)</th>\n",
       "    </tr>\n",
       "    <tr>\n",
       "      <th>factor</th>\n",
       "      <th></th>\n",
       "      <th></th>\n",
       "    </tr>\n",
       "  </thead>\n",
       "  <tbody>\n",
       "    <tr>\n",
       "      <th>infection</th>\n",
       "      <td>0.273564</td>\n",
       "      <td>0.479626</td>\n",
       "    </tr>\n",
       "    <tr>\n",
       "      <th>dataset</th>\n",
       "      <td>0.740139</td>\n",
       "      <td>0.349888</td>\n",
       "    </tr>\n",
       "  </tbody>\n",
       "</table>\n",
       "</div>"
      ],
      "text/plain": [
       "            R2(PC1)   R2(PC2)\n",
       "factor                       \n",
       "infection  0.273564  0.479626\n",
       "dataset    0.740139  0.349888"
      ]
     },
     "execution_count": 27,
     "metadata": {},
     "output_type": "execute_result"
    }
   ],
   "source": [
    "df_R2"
   ]
  },
  {
   "cell_type": "code",
   "execution_count": 28,
   "metadata": {},
   "outputs": [],
   "source": [
    "df_R2.to_csv(\"results_PCA_data\\\\\"+\"variability_explained.csv\")"
   ]
  },
  {
   "cell_type": "markdown",
   "metadata": {},
   "source": [
    "# t-SNE"
   ]
  },
  {
   "cell_type": "code",
   "execution_count": 29,
   "metadata": {},
   "outputs": [],
   "source": [
    "perplexity = 5"
   ]
  },
  {
   "cell_type": "code",
   "execution_count": 30,
   "metadata": {},
   "outputs": [],
   "source": [
    "tSNE = TSNE(n_components=n_components, perplexity = perplexity,  n_iter=5000)\n",
    "comps = tSNE.fit_transform(M)\n",
    "#df = pd.DataFrame(data = comps, columns = ['PC1', 'PC2', 'PC3'][:n_components])\n",
    "df = pd.DataFrame(data = comps, columns = ['PC1', 'PC2'][:n_components])\n",
    "df['data'] = data_files"
   ]
  },
  {
   "cell_type": "code",
   "execution_count": 31,
   "metadata": {},
   "outputs": [
    {
     "data": {
      "image/png": "[encoded data removed]",
      "text/plain": [
       "<Figure size 1440x720 with 1 Axes>"
      ]
     },
     "metadata": {
      "needs_background": "light"
     },
     "output_type": "display_data"
    },
    {
     "data": {
      "image/png": "[encoded data removed]",
      "text/plain": [
       "<Figure size 1440x720 with 1 Axes>"
      ]
     },
     "metadata": {
      "needs_background": "light"
     },
     "output_type": "display_data"
    }
   ],
   "source": [
    "for c in combinations(range(n_components), 2):\n",
    "    i1 = c[0]\n",
    "    i2 = c[1]\n",
    "    for factor in groups:\n",
    "        for group, data_group in groups[factor].items():                        \n",
    "            locs = np.isin(data_files, data_group)\n",
    "            plt.plot(comps[locs,i1], comps[locs,i2],\"o\", label=group)\n",
    "            \n",
    "        #for model, x, y in zip(models, comps[:,i1], comps[:,i2]):        \n",
    "        #    plt.text(x+0.05,y+0.05,model)\n",
    "\n",
    "        plt.title(factor)\n",
    "       \n",
    "        plt.xlabel(\"C\"+str(i1+1))#plt.xlabel(\"PC\"+str(i1+1) + \" (\" + str(round(100*pca_explained[i1],2))+\"%)\")\n",
    "        plt.ylabel(\"C\"+str(i2+1))#plt.ylabel(\"PC\"+str(i2+1) + \" (\" + str(round(100*pca_explained[i2],2))+\"%)\")\n",
    "        plt.legend()\n",
    "        plt.gcf().set_size_inches(20,10)\n",
    "        plt.savefig(\"results_PCA_data\\\\tSNE_C\"+str(i1+1)+'_'+\"C\"+str(i2+1)+'_'+factor+\".pdf\", format=\"pdf\", bbox_inches = 'tight')\n",
    "        #plt.savefig(\"results_PCA\\\\tSNE_\"+label_MEM+\"C\"+str(i1+1)+'_'+\"C\"+str(i2+1)+'_'+factor+\".png\", format=\"png\", bbox_inches = 'tight')\n",
    "        plt.show()"
   ]
  },
  {
   "cell_type": "code",
   "execution_count": null,
   "metadata": {},
   "outputs": [],
   "source": []
  },
  {
   "cell_type": "code",
   "execution_count": null,
   "metadata": {},
   "outputs": [],
   "source": []
  }
 ],
 "metadata": {
  "kernelspec": {
   "display_name": "Python 3.7.3 64-bit ('base': conda)",
   "language": "python",
   "name": "python37364bitbasecondacd385dda59854559b44e3f82ede14f15"
  },
  "language_info": {
   "codemirror_mode": {
    "name": "ipython",
    "version": 3
   },
   "file_extension": ".py",
   "mimetype": "text/x-python",
   "name": "python",
   "nbconvert_exporter": "python",
   "pygments_lexer": "ipython3",
   "version": "3.7.3"
  }
 },
 "nbformat": 4,
 "nbformat_minor": 2
}
