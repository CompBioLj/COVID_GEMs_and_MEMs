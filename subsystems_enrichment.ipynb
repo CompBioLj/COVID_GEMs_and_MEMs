{
 "cells": [
  {
   "cell_type": "markdown",
   "metadata": {},
   "source": [
    "# Subsystems enrichment analysis \n",
    "\n",
    "Performs the subsystems enrichment analysis based on the hypergeometric test:\n",
    "$$P(x \\geq k) = 1 - hypergeom.cdf(k-1, M, n, N)$$\n",
    "\n",
    "* k: number of diferentially expressed reactions in a subsystem,\n",
    "* n: number of diferentially expressed reactions in the model,\n",
    "* N: number of reactions in a subsystem,\n",
    "* M: number of reactions in the model.\n",
    "\n"
   ]
  },
  {
   "cell_type": "code",
   "execution_count": 27,
   "metadata": {},
   "outputs": [],
   "source": [
    "import pandas as pd\n",
    "import numpy as np\n",
    "import matplotlib.pyplot as plt\n",
    "import seaborn as sns\n",
    "import os \n",
    "\n",
    "from scipy.stats import hypergeom\n",
    "import statsmodels.stats.multitest as multi"
   ]
  },
  {
   "cell_type": "markdown",
   "metadata": {},
   "source": [
    "Set the folder in which data are stored."
   ]
  },
  {
   "cell_type": "code",
   "execution_count": 28,
   "metadata": {},
   "outputs": [],
   "source": [
    "p_vals_folder = \"results_enrichment_reactions\"\n",
    "active_reactions_folder = \"results_active_reactions_pairs\"\n",
    "\n",
    "results_folder = \"results_enrichment_subsystems\""
   ]
  },
  {
   "cell_type": "markdown",
   "metadata": {},
   "source": [
    "Read the subsystems data"
   ]
  },
  {
   "cell_type": "code",
   "execution_count": 29,
   "metadata": {},
   "outputs": [],
   "source": [
    "df_subsystems = pd.read_csv(\"model\\\\Human-GEM_subsystems.txt\", sep=\";\")\n",
    "df_subsystems = df_subsystems.rename(columns={'rxn': 'reaction'})\n",
    "subsystems = df_subsystems.subsystem.unique()"
   ]
  },
  {
   "cell_type": "markdown",
   "metadata": {},
   "source": [
    "## Hypergeometric test\n",
    "Go through the results of the reactions' enrichment analyses and use those to perform the subsystems' enrichment analysis.\n"
   ]
  },
  {
   "cell_type": "code",
   "execution_count": 30,
   "metadata": {},
   "outputs": [],
   "source": [
    "file_names = [file_name for file_name in os.listdir(p_vals_folder) if file_name.endswith('csv')]\n",
    "for file in file_names:\n",
    "    df_enrichment = pd.DataFrame(columns=[\"subsystem\", \"p_up\", \"p_down\", \"q_up\", \"q_down\", \"enrichment\"])\n",
    "    df_enrichment[\"subsystem\"] = subsystems\n",
    "    \n",
    "    df = pd.read_csv(p_vals_folder+\"\\\\\"+file, sep=\",\")\n",
    "    f = open(active_reactions_folder+\"\\\\\"+file)\n",
    "    active_reactions = f.read().strip().split(\";\")\n",
    "    f.close()\n",
    "    \n",
    "    df = df[df['reaction'].isin(active_reactions)] # keep only reactions that are active in at least one of the models\n",
    "    \n",
    "    M = len(df) # number of different reactions in pairs of models\n",
    "    n_up = sum(df.enrichment == 1) # number of upregulated reactions in models\n",
    "    n_down = sum(df.enrichment == -1)  # number of downregulated reactions in models\n",
    "    \n",
    "    #print(\"M:\",M)\n",
    "    #print(\"n_up:\",n_up)\n",
    "    #print(\"n_down:\",n_down)\n",
    "    \n",
    "    for subsystem in subsystems:\n",
    "        subsystem_reactions = df_subsystems.loc[df_subsystems.subsystem == subsystem,'reaction'].values\n",
    "        df_sub = df[df['reaction'].isin(subsystem_reactions)] # take only the reactions that belong to this subsystem\n",
    "        \n",
    "        N = len(df_sub) # number of reactions in a subsystem\n",
    "        k_up = sum(df_sub.enrichment == 1)# number of upregulated reactions in a subsystem\n",
    "        k_down = sum(df_sub.enrichment == -1)# number of downregulated reactions in a subsystem\n",
    "        \n",
    "        if n_up:         \n",
    "            p_up = 1 - hypergeom.cdf(k_up-1, M, n_up, N)                \n",
    "        else:\n",
    "            p_up = 1.0\n",
    "        \n",
    "        if n_down:         \n",
    "            p_down = 1 - hypergeom.cdf(k_down-1, M, n_down, N)                \n",
    "        else:\n",
    "            p_down = 1.0\n",
    "        \n",
    "        df_enrichment.loc[df_enrichment[\"subsystem\"] == subsystem, 'p_up'] = p_up\n",
    "        df_enrichment.loc[df_enrichment[\"subsystem\"] == subsystem, 'p_down'] = p_down\n",
    "    \n",
    "    df_enrichment['q_up'] = multi.multipletests(df_enrichment['p_up'], method = 'fdr_bh')[1]\n",
    "    df_enrichment['q_down'] = multi.multipletests(df_enrichment['p_down'], method = 'fdr_bh')[1]\n",
    "    \n",
    "    df_enrichment.loc[(df_enrichment['q_up']<0.05) & (df_enrichment['q_up']<df_enrichment['q_down']),'enrichment'] = 1\n",
    "    df_enrichment.loc[(df_enrichment['q_down']<0.05) & (df_enrichment['q_down']<=df_enrichment['q_up']),'enrichment'] = -1\n",
    "    df_enrichment = df_enrichment.fillna(0)\n",
    "\n",
    "    df_enrichment.to_csv(results_folder+\"\\\\\"+file, index=False)\n",
    "    \n"
   ]
  },
  {
   "cell_type": "code",
   "execution_count": null,
   "metadata": {},
   "outputs": [],
   "source": []
  }
 ],
 "metadata": {
  "kernelspec": {
   "display_name": "Python 3",
   "language": "python",
   "name": "python3"
  },
  "language_info": {
   "codemirror_mode": {
    "name": "ipython",
    "version": 3
   },
   "file_extension": ".py",
   "mimetype": "text/x-python",
   "name": "python",
   "nbconvert_exporter": "python",
   "pygments_lexer": "ipython3",
   "version": "3.7.3"
  }
 },
 "nbformat": 4,
 "nbformat_minor": 2
}
