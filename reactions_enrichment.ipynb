{
 "cells": [
  {
   "cell_type": "markdown",
   "metadata": {},
   "source": [
    "# Assess the enrichment of metabolic reactions\n",
    "Compares pairs (healthy, infected) on a reaction level based on flux samples. Calculates p-values indicating significance of difference between reaction activities in a healthy and an infected model with the two-sample Kolmogorov–Smirnov test. Also, calculates fold changes of a reaction between a reaction in a healthy ($R_h$) and a reaction in an infected model ($R_i$):\n",
    "$$   FC = \\frac{\\overline{R_i} - \\overline{R_h}}{\\left|\\overline{R_i} + \\overline{R_h}\\right|} $$"
   ]
  },
  {
   "cell_type": "code",
   "execution_count": 9,
   "metadata": {},
   "outputs": [],
   "source": [
    "import pandas as pd\n",
    "import numpy as np\n",
    "import matplotlib.pyplot as plt\n",
    "import seaborn as sns\n",
    "import os\n",
    "\n",
    "from scipy.stats import ks_2samp\n",
    "import statsmodels.stats.multitest as multi"
   ]
  },
  {
   "cell_type": "markdown",
   "metadata": {},
   "source": [
    "## Set folders"
   ]
  },
  {
   "cell_type": "code",
   "execution_count": 10,
   "metadata": {},
   "outputs": [],
   "source": [
    "sampling_folder = \"flux_samples\"\n",
    "results_folder = \"results_enrichment_reactions\"\n",
    "results_active_reactions_folder = \"results_active_reactions_pairs\""
   ]
  },
  {
   "cell_type": "code",
   "execution_count": 11,
   "metadata": {},
   "outputs": [],
   "source": [
    "MEM_labels = {\"INIT\":\"INIT\", \"TINIT\":\"tINIT\", \"GIMME\":\"GIMME\", \"IMAT\":\"iMAT\"}\n",
    "dataset_labels = {'NHBE':'HBE', 'LUNG':'Lung', '293T':'293T', 'CALU':'Calu-3', 'A549':'A549'}\n",
    "\n",
    "order = {'MEM': ['iMAT', 'GIMME', 'INIT', 'tINIT'],\n",
    "         'infection': ['healthy', 'infected'],\n",
    "         'dataset': ['HBE', 'Lung', '293T', 'Calu-3', 'A549']}"
   ]
  },
  {
   "cell_type": "markdown",
   "metadata": {},
   "source": [
    "## Preprocessing"
   ]
  },
  {
   "cell_type": "code",
   "execution_count": 12,
   "metadata": {},
   "outputs": [],
   "source": [
    "file_names = [file_name for file_name in os.listdir(sampling_folder) if file_name.endswith('csv')]\n",
    "MEMs = {}\n",
    "datasets = {}\n",
    "infections = {}\n",
    "labels = {}\n",
    "labels_no_infection = {}\n",
    "\n",
    "for file in file_names:\n",
    "    experiment = os.path.splitext(file)[0]\n",
    "    \n",
    "    MEM = experiment.split(\"_\")[0]\n",
    "    MEM = MEM_labels[MEM.upper()]\n",
    "    \n",
    "    dataset = experiment.split(\"_\")[1]\n",
    "    dataset = dataset_labels[dataset.upper()]\n",
    "    \n",
    "    infection = experiment.split(\"_\")[3]\n",
    "    infection = 'healthy' if infection == 'H' else 'infected'\n",
    "    \n",
    "    if MEM not in MEMs:\n",
    "        MEMs[MEM] = []\n",
    "    MEMs[MEM].append(file)\n",
    "    \n",
    "    if MEM not in MEMs:\n",
    "        MEMs[MEM] = []\n",
    "    MEMs[MEM].append(file)\n",
    "    \n",
    "    if dataset not in datasets:\n",
    "        datasets[dataset] = []\n",
    "    datasets[dataset].append(file)\n",
    "    \n",
    "    if infection not in infections:\n",
    "        infections[infection] = []\n",
    "    infections[infection].append(file)\n",
    "    \n",
    "    labels[file] = f'{MEM}_{dataset} {infection}'\n",
    "    labels_no_infection[file] = f'{MEM}_{dataset}'\n",
    "  "
   ]
  },
  {
   "cell_type": "markdown",
   "metadata": {},
   "source": [
    "## Compare pairs"
   ]
  },
  {
   "cell_type": "markdown",
   "metadata": {},
   "source": [
    "Generate pairs of models (healthy, infected)"
   ]
  },
  {
   "cell_type": "code",
   "execution_count": 13,
   "metadata": {},
   "outputs": [],
   "source": [
    "pairs = []\n",
    "for MEM, files1 in MEMs.items():\n",
    "    for dataset, files2 in datasets.items():\n",
    "        MEM_dataset = set(files1) & set(files2)\n",
    "        healthy = list(set(infections['healthy']) & MEM_dataset)\n",
    "        infected = list(set(infections['infected']) & MEM_dataset)\n",
    "        pairs.append([healthy[0], infected[0]])"
   ]
  },
  {
   "cell_type": "markdown",
   "metadata": {},
   "source": [
    "Go through the predefined pairs and for each reaction assess if the difference between healthy and infected is significant"
   ]
  },
  {
   "cell_type": "code",
   "execution_count": 14,
   "metadata": {},
   "outputs": [
    {
     "name": "stdout",
     "output_type": "stream",
     "text": [
      "['Gimme_293T_sample_H.csv', 'Gimme_293T_sample_I.csv'] --> GIMME_293T\n",
      "['Gimme_A549_sample_H.csv', 'Gimme_A549_sample_I.csv'] --> GIMME_A549\n",
      "['Gimme_CALU_sample_H.csv', 'Gimme_CALU_sample_I.csv'] --> GIMME_Calu-3\n",
      "['Gimme_Lung_sample_H.csv', 'Gimme_Lung_sample_I.csv'] --> GIMME_Lung\n",
      "['Gimme_NHBE_sample_H.csv', 'Gimme_NHBE_sample_I.csv'] --> GIMME_HBE\n",
      "['iMAT_293T_sample_H.csv', 'iMAT_293T_sample_I.csv'] --> iMAT_293T\n",
      "['iMAT_A549_sample_H.csv', 'iMAT_A549_sample_I.csv'] --> iMAT_A549\n",
      "['iMAT_CALU_sample_H.csv', 'iMAT_CALU_sample_I.csv'] --> iMAT_Calu-3\n",
      "['iMAT_Lung_sample_H.csv', 'iMAT_Lung_sample_I.csv'] --> iMAT_Lung\n",
      "['iMAT_NHBE_sample_H.csv', 'iMAT_NHBE_sample_I.csv'] --> iMAT_HBE\n",
      "['init_293T_sample_H.csv', 'init_293T_sample_I.csv'] --> INIT_293T\n",
      "['init_A549_sample_H.csv', 'init_A549_sample_I.csv'] --> INIT_A549\n",
      "['init_CALU_sample_H.csv', 'init_CALU_sample_I.csv'] --> INIT_Calu-3\n",
      "['init_Lung_sample_H.csv', 'init_Lung_sample_I.csv'] --> INIT_Lung\n",
      "['init_NHBE_sample_H.csv', 'init_NHBE_sample_I.csv'] --> INIT_HBE\n",
      "['Tinit_293T_sample_H.csv', 'Tinit_293T_sample_I.csv'] --> tINIT_293T\n",
      "['Tinit_A549_sample_H.csv', 'Tinit_A549_sample_I.csv'] --> tINIT_A549\n",
      "['Tinit_CALU_sample_H.csv', 'Tinit_CALU_sample_I.csv'] --> tINIT_Calu-3\n",
      "['Tinit_Lung_sample_H.csv', 'Tinit_Lung_sample_I.csv'] --> tINIT_Lung\n",
      "['Tinit_NHBE_sample_H.csv', 'Tinit_NHBE_sample_I.csv'] --> tINIT_HBE\n"
     ]
    }
   ],
   "source": [
    "for pair in pairs:\n",
    "    print(pair, \"-->\", labels_no_infection[pair[0]])\n",
    "    df_healthy = pd.read_csv(sampling_folder+\"\\\\\"+pair[0], sep=\";\")\n",
    "    df_infected = pd.read_csv(sampling_folder+\"\\\\\"+pair[1], sep=\";\")\n",
    "    \n",
    "    n_samples= df_infected.shape[0]\n",
    "    \n",
    "    reactions = sorted(list(set(df_healthy.columns) | set(df_infected.columns)))\n",
    "    \n",
    "    df = pd.DataFrame(columns=['reaction', 'FC', 'p', 'q', 'enrichment'])\n",
    "    df['reaction']=reactions\n",
    "    \n",
    "    for reaction in reactions:\n",
    "        if reaction in df_healthy.columns:\n",
    "            healthy = df_healthy[reaction].values\n",
    "        else:\n",
    "            healthy = np.zeros(n_samples)\n",
    "\n",
    "        if reaction in df_infected.columns:\n",
    "            infected = df_infected[reaction].values\n",
    "        else:\n",
    "            infected = np.zeros(n_samples)\n",
    "\n",
    "        mean_healthy = np.mean(healthy)\n",
    "        mean_infected = np.mean(infected)\n",
    "\n",
    "        if mean_healthy != 0 or mean_infected != 0:\n",
    "            FC = (mean_infected-mean_healthy)/(abs(mean_infected + mean_healthy))            \n",
    "            p = ks_2samp(healthy,infected)[1]\n",
    "        else:\n",
    "            FC = 0\n",
    "            p = 1          \n",
    "            \n",
    "        df.loc[df['reaction']==reaction, 'FC'] = FC\n",
    "        df.loc[df['reaction']==reaction, 'p'] = p\n",
    "\n",
    "    df['q'] = multi.multipletests(df['p'], method = 'fdr_bh')[1]\n",
    "    df.loc[(df['FC'] >= 0.82) & (df['q'] < 0.05),'enrichment'] = 1\n",
    "    df.loc[(df['FC'] <= -0.82) & (df['q'] < 0.05),'enrichment'] = -1\n",
    "    df = df.fillna(0)\n",
    "\n",
    "    df.to_csv(results_folder+\"\\\\\"+labels_no_infection[pair[0]]+\".csv\", index=False)"
   ]
  },
  {
   "cell_type": "markdown",
   "metadata": {},
   "source": [
    "## Extract active reactions\n",
    "\n",
    "Extract and save (to CSV) the reactions that are active in healthy and infected models for each MEM and dataset"
   ]
  },
  {
   "cell_type": "code",
   "execution_count": 15,
   "metadata": {},
   "outputs": [
    {
     "name": "stdout",
     "output_type": "stream",
     "text": [
      "['Gimme_293T_sample_H.csv', 'Gimme_293T_sample_I.csv'] --> GIMME_293T\n",
      "3155 reactions\n",
      "['Gimme_A549_sample_H.csv', 'Gimme_A549_sample_I.csv'] --> GIMME_A549\n",
      "3117 reactions\n",
      "['Gimme_CALU_sample_H.csv', 'Gimme_CALU_sample_I.csv'] --> GIMME_Calu-3\n",
      "3147 reactions\n",
      "['Gimme_Lung_sample_H.csv', 'Gimme_Lung_sample_I.csv'] --> GIMME_Lung\n",
      "3262 reactions\n",
      "['Gimme_NHBE_sample_H.csv', 'Gimme_NHBE_sample_I.csv'] --> GIMME_HBE\n",
      "3040 reactions\n",
      "['iMAT_293T_sample_H.csv', 'iMAT_293T_sample_I.csv'] --> iMAT_293T\n",
      "3563 reactions\n",
      "['iMAT_A549_sample_H.csv', 'iMAT_A549_sample_I.csv'] --> iMAT_A549\n",
      "3111 reactions\n",
      "['iMAT_CALU_sample_H.csv', 'iMAT_CALU_sample_I.csv'] --> iMAT_Calu-3\n",
      "3600 reactions\n",
      "['iMAT_Lung_sample_H.csv', 'iMAT_Lung_sample_I.csv'] --> iMAT_Lung\n",
      "4102 reactions\n",
      "['iMAT_NHBE_sample_H.csv', 'iMAT_NHBE_sample_I.csv'] --> iMAT_HBE\n",
      "3176 reactions\n",
      "['init_293T_sample_H.csv', 'init_293T_sample_I.csv'] --> INIT_293T\n",
      "1453 reactions\n",
      "['init_A549_sample_H.csv', 'init_A549_sample_I.csv'] --> INIT_A549\n",
      "1557 reactions\n",
      "['init_CALU_sample_H.csv', 'init_CALU_sample_I.csv'] --> INIT_Calu-3\n",
      "1516 reactions\n",
      "['init_Lung_sample_H.csv', 'init_Lung_sample_I.csv'] --> INIT_Lung\n",
      "1549 reactions\n",
      "['init_NHBE_sample_H.csv', 'init_NHBE_sample_I.csv'] --> INIT_HBE\n",
      "1215 reactions\n",
      "['Tinit_293T_sample_H.csv', 'Tinit_293T_sample_I.csv'] --> tINIT_293T\n",
      "2324 reactions\n",
      "['Tinit_A549_sample_H.csv', 'Tinit_A549_sample_I.csv'] --> tINIT_A549\n",
      "2616 reactions\n",
      "['Tinit_CALU_sample_H.csv', 'Tinit_CALU_sample_I.csv'] --> tINIT_Calu-3\n",
      "2538 reactions\n",
      "['Tinit_Lung_sample_H.csv', 'Tinit_Lung_sample_I.csv'] --> tINIT_Lung\n",
      "2270 reactions\n",
      "['Tinit_NHBE_sample_H.csv', 'Tinit_NHBE_sample_I.csv'] --> tINIT_HBE\n",
      "2325 reactions\n"
     ]
    }
   ],
   "source": [
    "for pair in pairs:\n",
    "    print(pair, \"-->\", labels_no_infection[pair[0]])\n",
    "    df_healthy = pd.read_csv(sampling_folder+\"\\\\\"+pair[0], sep=\";\")\n",
    "    df_infected = pd.read_csv(sampling_folder+\"\\\\\"+pair[1], sep=\";\")\n",
    "    \n",
    "    active_reactions = []\n",
    "    \n",
    "    for reaction in df_healthy.columns:\n",
    "        fluxes = df_healthy[reaction].values\n",
    "        if np.any(fluxes):\n",
    "            active_reactions.append(reaction)\n",
    "            \n",
    "    for reaction in df_infected.columns:\n",
    "        fluxes = df_infected[reaction].values\n",
    "        if np.any(fluxes) and reaction not in active_reactions:\n",
    "            active_reactions.append(reaction)\n",
    "            \n",
    "    f = open(results_active_reactions_folder+\"\\\\\"+labels_no_infection[pair[0]]+\".csv\", 'w')\n",
    "    print(len(active_reactions), \"reactions\")\n",
    "    f.write(\";\".join(active_reactions))\n",
    "    f.close()\n"
   ]
  },
  {
   "cell_type": "code",
   "execution_count": null,
   "metadata": {},
   "outputs": [],
   "source": []
  },
  {
   "cell_type": "code",
   "execution_count": null,
   "metadata": {},
   "outputs": [],
   "source": []
  }
 ],
 "metadata": {
  "kernelspec": {
   "display_name": "Python 3",
   "language": "python",
   "name": "python3"
  },
  "language_info": {
   "codemirror_mode": {
    "name": "ipython",
    "version": 3
   },
   "file_extension": ".py",
   "mimetype": "text/x-python",
   "name": "python",
   "nbconvert_exporter": "python",
   "pygments_lexer": "ipython3",
   "version": "3.7.3"
  }
 },
 "nbformat": 4,
 "nbformat_minor": 4
}
